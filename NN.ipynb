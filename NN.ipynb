{
 "cells": [
  {
   "cell_type": "code",
   "execution_count": 1,
   "metadata": {},
   "outputs": [
    {
     "name": "stderr",
     "output_type": "stream",
     "text": [
      "Using TensorFlow backend.\n"
     ]
    },
    {
     "name": "stdout",
     "output_type": "stream",
     "text": [
      "start\n"
     ]
    }
   ],
   "source": [
    "import numpy as np\n",
    "import pandas as pd\n",
    "import tensorflow as tf\n",
    "from keras.models import Model\n",
    "from tensorflow.keras import layers\n",
    "import matplotlib.pyplot as plt\n",
    "import tensorflow.keras as keras\n",
    "import random\n",
    "from sklearn.metrics import mean_squared_error\n",
    "from sklearn.preprocessing import MinMaxScaler\n",
    "from keras.models import Sequential\n",
    "from keras.layers import Dense\n",
    "\n",
    "print('start')\n",
    "#data = pd.read_csv(\"dataset_in_seconds.csv\")"
   ]
  },
  {
   "cell_type": "code",
   "execution_count": 2,
   "metadata": {},
   "outputs": [],
   "source": [
    "data = pd.read_csv(\"dataset_in_seconds2.csv\")"
   ]
  },
  {
   "cell_type": "code",
   "execution_count": 3,
   "metadata": {},
   "outputs": [
    {
     "data": {
      "text/html": [
       "<div>\n",
       "<style scoped>\n",
       "    .dataframe tbody tr th:only-of-type {\n",
       "        vertical-align: middle;\n",
       "    }\n",
       "\n",
       "    .dataframe tbody tr th {\n",
       "        vertical-align: top;\n",
       "    }\n",
       "\n",
       "    .dataframe thead th {\n",
       "        text-align: right;\n",
       "    }\n",
       "</style>\n",
       "<table border=\"1\" class=\"dataframe\">\n",
       "  <thead>\n",
       "    <tr style=\"text-align: right;\">\n",
       "      <th></th>\n",
       "      <th>Unnamed: 0</th>\n",
       "      <th>traffic</th>\n",
       "    </tr>\n",
       "  </thead>\n",
       "  <tbody>\n",
       "    <tr>\n",
       "      <th>0</th>\n",
       "      <td>0</td>\n",
       "      <td>758.413197</td>\n",
       "    </tr>\n",
       "    <tr>\n",
       "      <th>1</th>\n",
       "      <td>1</td>\n",
       "      <td>758.413197</td>\n",
       "    </tr>\n",
       "    <tr>\n",
       "      <th>2</th>\n",
       "      <td>2</td>\n",
       "      <td>758.413197</td>\n",
       "    </tr>\n",
       "    <tr>\n",
       "      <th>3</th>\n",
       "      <td>3</td>\n",
       "      <td>758.413197</td>\n",
       "    </tr>\n",
       "    <tr>\n",
       "      <th>4</th>\n",
       "      <td>4</td>\n",
       "      <td>758.413197</td>\n",
       "    </tr>\n",
       "  </tbody>\n",
       "</table>\n",
       "</div>"
      ],
      "text/plain": [
       "   Unnamed: 0     traffic\n",
       "0           0  758.413197\n",
       "1           1  758.413197\n",
       "2           2  758.413197\n",
       "3           3  758.413197\n",
       "4           4  758.413197"
      ]
     },
     "execution_count": 3,
     "metadata": {},
     "output_type": "execute_result"
    }
   ],
   "source": [
    "data.head()"
   ]
  },
  {
   "cell_type": "code",
   "execution_count": 4,
   "metadata": {},
   "outputs": [
    {
     "name": "stdout",
     "output_type": "stream",
     "text": [
      "1658.5744448125\n"
     ]
    },
    {
     "data": {
      "text/plain": [
       "[<matplotlib.lines.Line2D at 0x7f93a0412e48>]"
      ]
     },
     "execution_count": 4,
     "metadata": {},
     "output_type": "execute_result"
    },
    {
     "data": {
      "image/png": "[encoded data removed]",
      "text/plain": [
       "<Figure size 432x288 with 1 Axes>"
      ]
     },
     "metadata": {
      "needs_background": "light"
     },
     "output_type": "display_data"
    }
   ],
   "source": [
    "probes = data['traffic'].values\n",
    "\n",
    "max_scale_value = max(probes)\n",
    "print(max_scale_value)\n",
    "probes /=max_scale_value\n",
    "train_probes = probes[0:-2000]\n",
    "test_probes = probes[-2000:]\n",
    "\n",
    "plt.plot(probes[1:1000])\n"
   ]
  },
  {
   "cell_type": "code",
   "execution_count": 90,
   "metadata": {},
   "outputs": [],
   "source": [
    "range_size = 30\n",
    "range_size_in = 200\n",
    "\n",
    "\n",
    "for i in range(range_size):\n",
    "    if i == 0:\n",
    "        Y_train_complete =  np.array(train_probes[range_size_in+range_size+1:])\n",
    "        Y_test_complete  =  np.array(test_probes[range_size_in+range_size+1:])\n",
    "        \n",
    "    elif i ==1: \n",
    "        Y_train_complete = np.array([Y_train_complete[:], train_probes[range_size_in+range_size-i:-i-1]])\n",
    "        Y_test_complete = np.array([Y_test_complete[:], test_probes[range_size_in+range_size-i:-i-1]])\n",
    "    else:\n",
    "        Y_train_complete = np.append(Y_train_complete, [train_probes[range_size_in+range_size-i:-i-1]], axis=0)\n",
    "        Y_test_complete = np.append(Y_test_complete, [test_probes[range_size_in+range_size-i:-i-1]], axis=0)\n",
    "        \n",
    "for i in range(range_size_in):\n",
    "    if i == 0:\n",
    "        X_train_complete  =  np.array(train_probes[range_size_in:-1-range_size])\n",
    "        X_test_complete  =  np.array(test_probes[range_size_in:-1-range_size])\n",
    "\n",
    "    elif i ==1:\n",
    "        X_train_complete = np.array([X_train_complete[:], train_probes[range_size_in-i:-i-1-range_size]])\n",
    "        X_test_complete = np.array([X_test_complete[:], test_probes[range_size_in-i:-i-1-range_size]])\n",
    "    else:\n",
    "        X_train_complete = np.append(X_train_complete, [train_probes[range_size_in-i:-i-1-range_size]], axis=0)\n",
    "        X_test_complete = np.append(X_test_complete, [test_probes[range_size_in-i:-i-1-range_size]], axis=0)\n",
    "    \n",
    "for i in range(range_size_in):\n",
    "    if i == 0:\n",
    "        cross_X_values_train = np.gradient(train_probes[range_size_in:-1-range_size])\n",
    "        cross_X_values_test = np.gradient(test_probes[range_size_in:-1-range_size])\n",
    "        max_grad = max(cross_X_values_train)\n",
    "        cross_X_values_train /=max_grad\n",
    "        max_grad = max(cross_X_values_test)\n",
    "        cross_X_values_test /=max_grad\n",
    "        \n",
    "        \n",
    "        X_train_complete = np.append(X_train_complete, [cross_X_values_train[:]], axis=0)\n",
    "        X_test_complete = np.append(X_test_complete, [cross_X_values_test[:]], axis=0)\n",
    "\n",
    "    elif i ==1:\n",
    "        cross_X_values_train = np.gradient(train_probes[range_size_in-i:-i-1-range_size])\n",
    "        cross_X_values_test = np.gradient(test_probes[range_size_in-i:-i-1-range_size])\n",
    "        max_grad = max(cross_X_values_train)\n",
    "        cross_X_values_train /=max_grad\n",
    "        max_grad = max(cross_X_values_test)\n",
    "        cross_X_values_test /=max_grad\n",
    "        \n",
    "        X_train_complete = np.append(X_train_complete, [cross_X_values_train[:]], axis=0)\n",
    "        X_test_complete = np.append(X_test_complete, [cross_X_values_test[:]], axis=0)\n",
    "        \n",
    "    else:\n",
    "        cross_X_values_train = np.gradient(train_probes[range_size_in-i:-i-1-range_size])\n",
    "        cross_X_values_test = np.gradient(test_probes[range_size_in-i:-i-1-range_size])\n",
    "        max_grad = max(cross_X_values_train)\n",
    "        cross_X_values_train /=max_grad\n",
    "        max_grad = max(cross_X_values_test)\n",
    "        cross_X_values_test /=max_grad\n",
    "        \n",
    "        X_train_complete = np.append(X_train_complete, [cross_X_values_train[:]], axis=0)\n",
    "        X_test_complete = np.append(X_test_complete, [cross_X_values_test[:]], axis=0)\n",
    "        \n",
    "Y_train_complete = np.flip(Y_train_complete,0)\n",
    "Y_test_complete = np.flip(Y_test_complete,0)\n",
    "X_train_complete = np.flip(X_train_complete,0)\n",
    "X_test_complete = np.flip(X_test_complete,0)"
   ]
  },
  {
   "cell_type": "code",
   "execution_count": 72,
   "metadata": {},
   "outputs": [
    {
     "name": "stdout",
     "output_type": "stream",
     "text": [
      "(400, 84169)\n",
      "(30, 84169)\n",
      "(400, 1769)\n",
      "(30, 1769)\n"
     ]
    }
   ],
   "source": [
    "print(np.shape(X_train_complete))\n",
    "print(np.shape(Y_train_complete))\n",
    "print(np.shape(X_test_complete))\n",
    "print(np.shape(Y_test_complete))"
   ]
  },
  {
   "cell_type": "code",
   "execution_count": 7,
   "metadata": {},
   "outputs": [
    {
     "name": "stdout",
     "output_type": "stream",
     "text": [
      "[0.6289763  0.6289763  0.6289763  ... 0.67266429 0.67266429 0.67266429]\n"
     ]
    }
   ],
   "source": [
    "print(Y_train_complete[0])"
   ]
  },
  {
   "cell_type": "code",
   "execution_count": 76,
   "metadata": {},
   "outputs": [
    {
     "name": "stdout",
     "output_type": "stream",
     "text": [
      "[0.6289763  0.6289763  0.6289763  ... 0.67266429 0.67266429 0.67266429]\n"
     ]
    }
   ],
   "source": [
    "\n"
   ]
  },
  {
   "cell_type": "code",
   "execution_count": 61,
   "metadata": {},
   "outputs": [
    {
     "name": "stdout",
     "output_type": "stream",
     "text": [
      "[[0.62900157 0.62910219 0.63505268 ... 0.73281102 0.73463572 0.73503781]\n",
      " [0.62902683 0.62910177 0.64100486 ... 0.73319144 0.73493872 0.73422789]\n",
      " [0.62905209 0.62910134 0.64695704 ... 0.73357186 0.73524173 0.73341797]\n",
      " ...\n",
      " [0.67321664 0.67106518 0.66990051 ... 0.51650388 0.51782    0.51852922]\n",
      " [0.67324184 0.66995166 0.67098846 ... 0.51680782 0.51802215 0.51858061]\n",
      " [0.67326704 0.66883813 0.67207642 ... 0.51711177 0.51822429 0.518632  ]]\n",
      "[[0.56928344 0.5670031  0.56981331 ... 0.60227951 0.60293737 0.60174929]\n",
      " [0.56847281 0.5679653  0.5687747  ... 0.60255782 0.60248202 0.60238262]\n",
      " [0.56766217 0.56892751 0.5677361  ... 0.60283612 0.60202667 0.60301594]\n",
      " ...\n",
      " [0.51748949 0.51776833 0.51756737 ... 0.4558228  0.45642977 0.45642937]\n",
      " [0.51771719 0.5175662  0.51777009 ... 0.45592403 0.4565814  0.45620171]\n",
      " [0.51794489 0.51736407 0.5179728  ... 0.45602526 0.45673304 0.45597405]]\n"
     ]
    }
   ],
   "source": [
    "\n",
    "\"\"\"new_Y_train = np.zeros((np.shape(Y_train_complete)[0],int(range_size/5)))\n",
    "for j in range(np.shape(Y_train_complete)[0]):\n",
    "    for i in range(int(range_size/5)):\n",
    "        new_Y_train[j][i] = np.mean(Y_train_complete[j][i*5:5*(i+1)])\n",
    "        \n",
    "new_Y_test = np.zeros((np.shape(Y_test_complete)[0],int(range_size/5)))\n",
    "for j in range(np.shape(Y_test_complete)[0]):\n",
    "    for i in range(int(range_size/5)):\n",
    "        new_Y_test[j][i] = np.mean(Y_test_complete[j][i*5:5*(i+1)])\n",
    "print(new_Y_train)\n",
    "print(new_Y_test)\"\"\""
   ]
  },
  {
   "cell_type": "code",
   "execution_count": 58,
   "metadata": {},
   "outputs": [
    {
     "name": "stdout",
     "output_type": "stream",
     "text": [
      "data ready - creating the models\n"
     ]
    }
   ],
   "source": [
    "print(\"data ready - creating the models\")\n",
    "\n",
    "jump_size = 5\n",
    "from keras.layers import Dropout\n",
    "from keras.constraints import maxnorm\n",
    "try:\n",
    "    del model\n",
    "except:\n",
    "    pass\n",
    "def wider_model():\n",
    "    # create model\n",
    "    model = Sequential()\n",
    "    model.add(Dense(16, input_dim=range_size_in*2, kernel_initializer='random_uniform', activation='relu', kernel_constraint=maxnorm(3)))\n",
    "    model.add(Dropout(0.3))\n",
    "    model.add(Dense(int(range_size_in*1.5), kernel_constraint=maxnorm(3)))\n",
    "    model.add(Dropout(0.2))\n",
    "    model.add(Dense(range_size_in, kernel_constraint=maxnorm(3)))\n",
    "    model.add(Dropout(0.2))\n",
    "    model.add(Dense(int(range_size_in/2), kernel_constraint=maxnorm(3)))\n",
    "    model.add(Dropout(0.2))\n",
    "    model.add(Dense(1, kernel_initializer='normal'))\n",
    "    # Compile model\n",
    "    model.compile(loss='mean_squared_error', optimizer='adam')\n",
    "    return model\n",
    "\n",
    "def wider_model2():\n",
    "    # create model\n",
    "    model = Sequential()\n",
    "    model.add(Dense(16, input_dim=range_size_in*2+jump_size, kernel_initializer='random_uniform', activation='relu', kernel_constraint=maxnorm(3)))\n",
    "    model.add(Dropout(0.3))\n",
    "    model.add(Dense(int(range_size_in*1.5), kernel_constraint=maxnorm(3)))\n",
    "    model.add(Dropout(0.2))\n",
    "    model.add(Dense(range_size_in, kernel_constraint=maxnorm(3)))\n",
    "    model.add(Dropout(0.2))\n",
    "    model.add(Dense(int(range_size_in/2), kernel_constraint=maxnorm(3)))\n",
    "    model.add(Dropout(0.2))\n",
    "    model.add(Dense(1, kernel_initializer='normal'))\n",
    "    # Compile model\n",
    "    model.compile(loss='mean_squared_error', optimizer='adam')\n",
    "    return model\n",
    "\n",
    "def wider_model3():\n",
    "    # create model\n",
    "    model = Sequential()\n",
    "    model.add(Dense(16, input_dim=range_size_in*2+2*jump_size, kernel_initializer='random_uniform', activation='relu', kernel_constraint=maxnorm(3)))\n",
    "    model.add(Dropout(0.3))\n",
    "    model.add(Dense(int(range_size_in*1.5), kernel_constraint=maxnorm(3)))\n",
    "    model.add(Dropout(0.2))\n",
    "    model.add(Dense(range_size_in, kernel_constraint=maxnorm(3)))\n",
    "    model.add(Dropout(0.2))\n",
    "    model.add(Dense(int(range_size_in/2), kernel_constraint=maxnorm(3)))\n",
    "    model.add(Dropout(0.2))\n",
    "    model.add(Dense(1, kernel_initializer='normal'))\n",
    "    # Compile model\n",
    "    model.compile(loss='mean_squared_error', optimizer='adam')\n",
    "    return model\n",
    "\n",
    "def wider_model4():\n",
    "    # create model\n",
    "    model = Sequential()\n",
    "    model.add(Dense(16, input_dim=range_size_in*2+3*jump_size, kernel_initializer='random_uniform', activation='relu', kernel_constraint=maxnorm(3)))\n",
    "    model.add(Dropout(0.3))\n",
    "    model.add(Dense(int(range_size_in*1.5), kernel_constraint=maxnorm(3)))\n",
    "    model.add(Dropout(0.2))\n",
    "    model.add(Dense(range_size_in, kernel_constraint=maxnorm(3)))\n",
    "    model.add(Dropout(0.2))\n",
    "    model.add(Dense(int(range_size_in/2), kernel_constraint=maxnorm(3)))\n",
    "    model.add(Dropout(0.2))\n",
    "    model.add(Dense(1, kernel_initializer='normal'))\n",
    "    # Compile model\n",
    "    model.compile(loss='mean_squared_error', optimizer='adam')\n",
    "    return model\n",
    "\n",
    "def wider_model5():\n",
    "    # create model\n",
    "    model = Sequential()\n",
    "    model.add(Dense(16, input_dim=range_size_in*2+4*jump_size, kernel_initializer='random_uniform', activation='relu', kernel_constraint=maxnorm(3)))\n",
    "    model.add(Dropout(0.3))\n",
    "    model.add(Dense(int(range_size_in*1.5), kernel_constraint=maxnorm(3)))\n",
    "    model.add(Dropout(0.2))\n",
    "    model.add(Dense(range_size_in, kernel_constraint=maxnorm(3)))\n",
    "    model.add(Dropout(0.2))\n",
    "    model.add(Dense(int(range_size_in/2), kernel_constraint=maxnorm(3)))\n",
    "    model.add(Dropout(0.2))\n",
    "    model.add(Dense(1, kernel_initializer='normal'))\n",
    "    # Compile model\n",
    "    model.compile(loss='mean_squared_error', optimizer='adam')\n",
    "    return model\n",
    "\n",
    "def wider_model6():\n",
    "    # create model\n",
    "    model = Sequential()\n",
    "    model.add(Dense(16, input_dim=range_size_in*2+5*jump_size, kernel_initializer='random_uniform', activation='relu', kernel_constraint=maxnorm(3)))\n",
    "    model.add(Dropout(0.3))\n",
    "    model.add(Dense(int(range_size_in*1.5), kernel_constraint=maxnorm(3)))\n",
    "    model.add(Dropout(0.2))\n",
    "    model.add(Dense(range_size_in, kernel_constraint=maxnorm(3)))\n",
    "    model.add(Dropout(0.2))\n",
    "    model.add(Dense(int(range_size_in/2), kernel_constraint=maxnorm(3)))\n",
    "    model.add(Dropout(0.2))\n",
    "    model.add(Dense(1, kernel_initializer='normal'))\n",
    "    # Compile model\n",
    "    model.compile(loss='mean_squared_error', optimizer='adam')\n",
    "    return model"
   ]
  },
  {
   "cell_type": "code",
   "execution_count": 92,
   "metadata": {},
   "outputs": [],
   "source": [
    "X_train_complete = np.swapaxes(X_train_complete, 1, 0)\n",
    "X_test_complete = np.swapaxes(X_test_complete, 1, 0)\n",
    "Y_train_complete = np.swapaxes(Y_train_complete, 1, 0)\n",
    "Y_test_complete = np.swapaxes(Y_test_complete, 1, 0)"
   ]
  },
  {
   "cell_type": "code",
   "execution_count": 93,
   "metadata": {
    "scrolled": true
   },
   "outputs": [
    {
     "name": "stdout",
     "output_type": "stream",
     "text": [
      "[0.6289763  0.6289763  0.6289763  0.6289763  0.62910262 0.62910262\n",
      " 0.62910262 0.62910262 0.62910262 0.62910049 0.62910049 0.62910049\n",
      " 0.62910049 0.62910049 0.65886141 0.65886141 0.65886141 0.65886141\n",
      " 0.65886141 0.73445839 0.73445839 0.73445839 0.73445839 0.73445839\n",
      " 0.73281361 0.73281361 0.73281361 0.73281361 0.73281361 0.73407308]\n",
      "(84169, 400)\n",
      "(84169,)\n",
      "train model0\n",
      "Epoch 1/4\n",
      "84169/84169 [==============================] - 7s 86us/step - loss: 0.0313\n",
      "Epoch 2/4\n",
      "84169/84169 [==============================] - 4s 50us/step - loss: 0.0108\n",
      "Epoch 3/4\n",
      "84169/84169 [==============================] - 6s 68us/step - loss: 0.0089\n",
      "Epoch 4/4\n",
      "84169/84169 [==============================] - 4s 53us/step - loss: 0.0072\n",
      "train model5\n",
      "[0.6289763  0.6289763  0.6289763  0.6289763  0.62910262 0.62910262\n",
      " 0.62910262 0.62910262 0.62910262 0.62910049 0.62910049 0.62910049\n",
      " 0.62910049 0.62910049 0.65886141 0.65886141 0.65886141 0.65886141\n",
      " 0.65886141 0.73445839 0.73445839 0.73445839 0.73445839 0.73445839\n",
      " 0.73281361 0.73281361 0.73281361 0.73281361 0.73281361 0.73407308]\n",
      "train model10\n",
      "train model15\n",
      "train model20\n",
      "train model25\n",
      "save model\n"
     ]
    }
   ],
   "source": [
    "try:\n",
    "    del model\n",
    "except:\n",
    "    pass\n",
    "\n",
    "list = []\n",
    "\n",
    "\n",
    "\n",
    "new_X_train_complete = X_train_complete\n",
    "\n",
    "print(Y_train_complete[0])\n",
    "print(np.shape(new_X_train_complete))\n",
    "print(np.shape(Y_train_complete[:,0]))\n",
    "model = wider_model()\n",
    "print(\"train model\" + str(0))\n",
    "history = model.fit(new_X_train_complete, Y_train_complete[:,0], epochs=4, batch_size=1500, verbose=1)\n",
    "list.append(model)\n",
    "\n",
    "\n",
    "\n",
    "\n",
    "\n",
    "new_X_train_complete = np.swapaxes(new_X_train_complete, 1, 0)\n",
    "Y_train_complete = np.swapaxes(Y_train_complete, 1, 0)\n",
    "\n",
    "model = wider_model2()\n",
    "print(\"train model\" + str(5))\n",
    "    \n",
    "for i in range(jump_size):\n",
    "    new_X_train_complete = np.append(new_X_train_complete, [train_probes[range_size_in-i+jump_size:-i-1-range_size+jump_size]], axis=0)\n",
    "\n",
    "new_X_train_complete = np.swapaxes(new_X_train_complete, 1, 0)\n",
    "Y_train_complete = np.swapaxes(Y_train_complete, 1, 0)\n",
    "\n",
    "print(Y_train_complete[0])\n",
    "history = model.fit(new_X_train_complete, Y_train_complete[:,5], epochs=4, batch_size=1500, verbose=0)\n",
    "list.append(model)\n",
    "\n",
    "\n",
    "\n",
    "\n",
    "\n",
    "new_X_train_complete = np.swapaxes(new_X_train_complete, 1, 0)\n",
    "Y_train_complete = np.swapaxes(Y_train_complete, 1, 0)\n",
    "\n",
    "model = wider_model3()\n",
    "print(\"train model\" + str(10))\n",
    "for i in range(jump_size):\n",
    "    new_X_train_complete = np.append(new_X_train_complete, [train_probes[range_size_in-i+2*jump_size:-i-1-range_size+2*jump_size]], axis=0)\n",
    "\n",
    "new_X_train_complete = np.swapaxes(new_X_train_complete, 1, 0)\n",
    "Y_train_complete = np.swapaxes(Y_train_complete, 1, 0)\n",
    "\n",
    "history = model.fit(new_X_train_complete, Y_train_complete[:,10], epochs=4, batch_size=1500, verbose=0)\n",
    "list.append(model)\n",
    "\n",
    "\n",
    "\n",
    "\n",
    "new_X_train_complete = np.swapaxes(new_X_train_complete, 1, 0)\n",
    "Y_train_complete = np.swapaxes(Y_train_complete, 1, 0)\n",
    "model = wider_model4()\n",
    "print(\"train model\" + str(15))\n",
    "for i in range(jump_size):\n",
    "    new_X_train_complete = np.append(new_X_train_complete, [train_probes[range_size_in-i+3*jump_size:-i-1-range_size+3*jump_size]], axis=0)\n",
    "\n",
    "new_X_train_complete = np.swapaxes(new_X_train_complete, 1, 0)\n",
    "Y_train_complete = np.swapaxes(Y_train_complete, 1, 0)\n",
    "\n",
    "history = model.fit(new_X_train_complete, Y_train_complete[:,15], epochs=4, batch_size=1500, verbose=0)\n",
    "list.append(model)\n",
    "\n",
    "\n",
    "new_X_train_complete = np.swapaxes(new_X_train_complete, 1, 0)\n",
    "Y_train_complete = np.swapaxes(Y_train_complete, 1, 0)\n",
    "model = wider_model5()\n",
    "print(\"train model\" + str(20))\n",
    "for i in range(jump_size):\n",
    "    new_X_train_complete = np.append(new_X_train_complete, [train_probes[range_size_in-i+4*jump_size:-i-1-range_size+4*jump_size]], axis=0)\n",
    "\n",
    "new_X_train_complete = np.swapaxes(new_X_train_complete, 1, 0)\n",
    "Y_train_complete = np.swapaxes(Y_train_complete, 1, 0)\n",
    "history = model.fit(new_X_train_complete, Y_train_complete[:,20], epochs=4, batch_size=1500, verbose=0)\n",
    "list.append(model)\n",
    "\n",
    "\n",
    "new_X_train_complete = np.swapaxes(new_X_train_complete, 1, 0)\n",
    "Y_train_complete = np.swapaxes(Y_train_complete, 1, 0)\n",
    "model = wider_model6()\n",
    "print(\"train model\" + str(25))\n",
    "for i in range(jump_size):\n",
    "    new_X_train_complete = np.append(new_X_train_complete, [train_probes[range_size_in-i+5*jump_size:-i-1-range_size+5*jump_size]], axis=0)\n",
    "\n",
    "new_X_train_complete = np.swapaxes(new_X_train_complete, 1, 0)\n",
    "Y_train_complete = np.swapaxes(Y_train_complete, 1, 0)\n",
    "history = model.fit(new_X_train_complete, Y_train_complete[:,25], epochs=4, batch_size=1500, verbose=0)\n",
    "list.append(model)\n",
    "\n",
    "\n",
    "\n",
    "#history = model.fit(X_train_complete, Y_train_complete, epochs=5, batch_size=1500, verbose=1)\n",
    "print(\"save model\")"
   ]
  },
  {
   "cell_type": "code",
   "execution_count": 94,
   "metadata": {},
   "outputs": [
    {
     "name": "stdout",
     "output_type": "stream",
     "text": [
      "(84169, 425)\n"
     ]
    }
   ],
   "source": [
    "print(np.shape(new_X_train_complete))"
   ]
  },
  {
   "cell_type": "code",
   "execution_count": 55,
   "metadata": {},
   "outputs": [
    {
     "name": "stdout",
     "output_type": "stream",
     "text": [
      "train prediction:\n"
     ]
    }
   ],
   "source": [
    "print(\"train prediction:\")\n",
    "predictions0 = list[0].predict(X_train_complete[0:1739], batch_size=1000)\n",
    "predictions1 = list[1].predict(X_train_complete[0:1739], batch_size=1000)\n",
    "predictions2 = list[2].predict(X_train_complete[0:1739], batch_size=1000)\n",
    "predictions3 = list[3].predict(X_train_complete[0:1739], batch_size=1000)\n",
    "predictions4 = list[4].predict(X_train_complete[0:1739], batch_size=1000)\n",
    "predictions5 = list[5].predict(X_train_complete[0:1739], batch_size=1000)\n",
    "\n",
    "pred_list = [predictions0,predictions1,predictions2,predictions3,predictions4,predictions5]"
   ]
  },
  {
   "cell_type": "code",
   "execution_count": 43,
   "metadata": {},
   "outputs": [
    {
     "name": "stdout",
     "output_type": "stream",
     "text": [
      "(1739, 30)\n"
     ]
    }
   ],
   "source": [
    "#interpolate data predicted\n",
    "xin = [0, 5, 10,15,20,25]\n",
    "xout = [0,1, 2, 3, 4,5,6,7,8,9,10,11,12,13,14,15,16,17,18,19,20,21,22,23,24,25,26,27,28,29]\n",
    "xin2 = [0, 5]\n",
    "xout2 = [0,1, 2, 3, 4,5,6,7,8,9]\n",
    "\n",
    "def interpolate_pred(pred_list):\n",
    "    predictions = np.concatenate((pred_list[0], pred_list[1],pred_list[2],pred_list[3],pred_list[4],pred_list[5]), axis = 1)\n",
    "    pred_interpolated = np.zeros((np.shape(predictions)[0],np.shape(predictions)[1]*5))\n",
    "    for i in range(np.shape(predictions)[0]):\n",
    "        pred_interpolated[i] = np.interp(xout, xin, predictions[i])\n",
    "    return pred_interpolated\n",
    "    \n",
    "def interpolate_pred_2(pred_item,pred_item2):\n",
    "    predictions = np.concatenate((pred_item,pred_item2), axis = 1)\n",
    "    pred_interpolated = np.zeros((np.shape(predictions)[0],np.shape(predictions)[1]*5))\n",
    "    for i in range(np.shape(predictions)[0]):\n",
    "        pred_interpolated[i] = np.interp(xout2, xin2, predictions[i])\n",
    "    return pred_interpolated\n",
    "interpolate_pred(pred_list)\n",
    "\n",
    "\n",
    "print(np.shape(pred_interpolated))\n"
   ]
  },
  {
   "cell_type": "code",
   "execution_count": 45,
   "metadata": {},
   "outputs": [
    {
     "name": "stdout",
     "output_type": "stream",
     "text": [
      "(1769, 400)\n"
     ]
    }
   ],
   "source": [
    "predictions0 = list[0].predict(X_test_complete, batch_size=1000)\n",
    "predictions1 = list[1].predict(X_test_complete, batch_size=1000)\n",
    "\n",
    "predictions_temp = interpolate_pred_2(predictions0,predictions1)\n",
    "X_test_complete_temp = X_test_complete\n",
    "print(np.shape(X_test_complete))"
   ]
  },
  {
   "cell_type": "code",
   "execution_count": 57,
   "metadata": {
    "scrolled": false
   },
   "outputs": [
    {
     "name": "stdout",
     "output_type": "stream",
     "text": [
      "test pred\n",
      "(1769, 400)\n",
      "1658.5744448125\n",
      "(1769, 30)\n",
      "(1769, 30)\n",
      "116.58326497805619\n"
     ]
    },
    {
     "data": {
      "text/plain": [
       "[<matplotlib.lines.Line2D at 0x7f9364d3d438>]"
      ]
     },
     "execution_count": 57,
     "metadata": {},
     "output_type": "execute_result"
    },
    {
     "data": {
      "image/png": "[encoded data removed]",
      "text/plain": [
       "<Figure size 1080x576 with 1 Axes>"
      ]
     },
     "metadata": {
      "needs_background": "light"
     },
     "output_type": "display_data"
    },
    {
     "data": {
      "image/png": "[encoded data removed]",
      "text/plain": [
       "<Figure size 1080x576 with 1 Axes>"
      ]
     },
     "metadata": {
      "needs_background": "light"
     },
     "output_type": "display_data"
    }
   ],
   "source": [
    "print(\"test pred\")\n",
    "predictions0 = list[0].predict(X_test_complete, batch_size=1000)\n",
    "predictions1 = list[1].predict(X_test_complete, batch_size=1000)\n",
    "predictions2 = list[2].predict(X_test_complete, batch_size=1000)\n",
    "predictions3 = list[3].predict(X_test_complete, batch_size=1000)\n",
    "predictions4 = list[4].predict(X_test_complete, batch_size=1000)\n",
    "predictions5 = list[5].predict(X_test_complete, batch_size=1000)\n",
    "\n",
    "pred_list_test = [predictions0,predictions1,predictions2,predictions3,predictions4,predictions5]\n",
    "predictions = interpolate_pred(pred_list_test)\n",
    "\"\"\"predictions = model.predict(X_test_complete, batch_size=1000)\"\"\"\n",
    "\n",
    "print(np.shape(X_test_complete))\n",
    "no_scale_predictions = predictions * max_scale_value\n",
    "print(max_scale_value)\n",
    "no_scale_new_Y_test = Y_test_complete  * max_scale_value\n",
    "\n",
    "print(np.shape(no_scale_predictions))\n",
    "print(np.shape(no_scale_new_Y_test))\n",
    "print(sum(sum(abs(no_scale_predictions - no_scale_new_Y_test)))/(np.shape(no_scale_new_Y_test)[0]*np.shape(no_scale_new_Y_test)[1]))\n",
    "\n",
    "#np.savetxt(\"no_scale_new_Y_test.csv\", no_scale_new_Y_test, delimiter=\",\")\n",
    "#np.savetxt(\"no_scale_predictions.csv\", no_scale_predictions, delimiter=\",\")\n",
    "\n",
    "\n",
    "\n",
    "plt.figure(figsize=(15,8))\n",
    "plt.plot(no_scale_predictions[200], 'b')\n",
    "plt.plot(no_scale_new_Y_test[200], 'r-.')\n",
    "\n",
    "fl_no_scale_predictions = np.swapaxes(no_scale_predictions, 1, 0)\n",
    "fl_no_scale_new_Y_test = np.swapaxes(no_scale_new_Y_test, 1, 0)\n",
    "\n",
    "plt.figure(figsize=(15,8))\n",
    "plt.plot(fl_no_scale_predictions[13], 'b')\n",
    "plt.plot(fl_no_scale_new_Y_test[13], 'r-.')\n",
    "\n"
   ]
  },
  {
   "cell_type": "code",
   "execution_count": null,
   "metadata": {},
   "outputs": [],
   "source": []
  }
 ],
 "metadata": {
  "kernelspec": {
   "display_name": "Python 3",
   "language": "python",
   "name": "python3"
  },
  "language_info": {
   "codemirror_mode": {
    "name": "ipython",
    "version": 3
   },
   "file_extension": ".py",
   "mimetype": "text/x-python",
   "name": "python",
   "nbconvert_exporter": "python",
   "pygments_lexer": "ipython3",
   "version": "3.6.7"
  }
 },
 "nbformat": 4,
 "nbformat_minor": 2
}
