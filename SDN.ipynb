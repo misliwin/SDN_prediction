{
 "cells": [
  {
   "cell_type": "markdown",
   "metadata": {},
   "source": [
    "# Prerequisites\n",
    "All computational and statistics packages have been tested in Anaconda environment (python 3.6)\n",
    "1. Install Anaconda\n",
    "https://www.anaconda.com/download/#linux\n",
    "2. Install Spark and Java 8\n",
    "https://medium.com/@GalarnykMichael/install-spark-on-ubuntu-pyspark-231c45677de0  "
   ]
  },
  {
   "cell_type": "markdown",
   "metadata": {},
   "source": [
    "***Install \"pyspark\"***"
   ]
  },
  {
   "cell_type": "code",
   "execution_count": 2,
   "metadata": {
    "scrolled": true
   },
   "outputs": [
    {
     "name": "stdout",
     "output_type": "stream",
     "text": [
      "Trying to import pyspark...\n"
     ]
    }
   ],
   "source": [
    "try:\n",
    "    print('Trying to import pyspark...')\n",
    "    import pyspark\n",
    "except ImportError:\n",
    "    print('Pyspark import failed...')\n",
    "    print('Installing pyspark in conda environment...')\n",
    "    import sys\n",
    "    !conda install --yes --prefix {sys.prefix} pyspark"
   ]
  },
  {
   "cell_type": "markdown",
   "metadata": {},
   "source": [
    "***Create Spark Context***\n",
    "If you enqounter any error, try to reconfigure Spark on your machine (link in the first cell - .bashrc file configuration)."
   ]
  },
  {
   "cell_type": "code",
   "execution_count": 3,
   "metadata": {},
   "outputs": [],
   "source": [
    "from pyspark import SparkConf, SparkContext\n",
    "try:\n",
    "    sc\n",
    "except NameError:\n",
    "    conf = SparkConf().setAppName('SDN')\n",
    "    sc = SparkContext(conf=conf)\n",
    "else:\n",
    "    if sc != None:\n",
    "        sc.stop()\n",
    "    conf = SparkConf().setAppName('SDN')\n",
    "    sc = SparkContext(conf=conf)"
   ]
  },
  {
   "cell_type": "markdown",
   "metadata": {},
   "source": [
    "Create SQL context for spark computation."
   ]
  },
  {
   "cell_type": "code",
   "execution_count": 4,
   "metadata": {},
   "outputs": [],
   "source": [
    "from pyspark.sql import SQLContext\n",
    "sqlContext = SQLContext(sc)"
   ]
  },
  {
   "cell_type": "code",
   "execution_count": 5,
   "metadata": {},
   "outputs": [],
   "source": [
    "from os import system\n",
    "import pandas as pd\n",
    "import numpy as np\n",
    "import statistics\n",
    "import matplotlib.pyplot as plt\n",
    "%matplotlib inline\n",
    "from datetime import datetime, timedelta\n",
    "import time\n",
    "import scipy.stats as sts\n",
    "\n",
    "from apscheduler.schedulers.background import BackgroundScheduler\n",
    "from apscheduler.triggers.interval import IntervalTrigger\n",
    "import matplotlib.dates as mdates\n",
    "import json\n",
    "import urllib\n",
    "import logging, sys"
   ]
  },
  {
   "cell_type": "code",
   "execution_count": 5,
   "metadata": {},
   "outputs": [
    {
     "name": "stdout",
     "output_type": "stream",
     "text": [
      "Trying to import paramiko...\n",
      "Paramiko imported.\n"
     ]
    }
   ],
   "source": [
    "try:\n",
    "    print('Trying to import paramiko...')\n",
    "    import paramiko\n",
    "    print('Paramiko imported.')\n",
    "except ImportError:\n",
    "    print('Paramiko import failed...')\n",
    "    print('Installing paramiko in conda environment...')\n",
    "    import sys\n",
    "    !conda install --yes --prefix {sys.prefix} paramiko"
   ]
  },
  {
   "cell_type": "markdown",
   "metadata": {},
   "source": [
    "Paramiko installation"
   ]
  },
  {
   "cell_type": "markdown",
   "metadata": {},
   "source": [
    "SCP installation"
   ]
  },
  {
   "cell_type": "code",
   "execution_count": 6,
   "metadata": {},
   "outputs": [
    {
     "name": "stdout",
     "output_type": "stream",
     "text": [
      "Trying to import scp...\n",
      "Scp imported.\n"
     ]
    }
   ],
   "source": [
    "try:\n",
    "    print('Trying to import scp...')\n",
    "    import scp\n",
    "    print('Scp imported.')\n",
    "except ImportError:\n",
    "    print('Scp import failed...')\n",
    "    print('Installing scp in conda environment...')\n",
    "    import sys\n",
    "    !conda install --yes --prefix {sys.prefix} scp"
   ]
  },
  {
   "cell_type": "markdown",
   "metadata": {},
   "source": [
    "Keras installation"
   ]
  },
  {
   "cell_type": "code",
   "execution_count": 7,
   "metadata": {},
   "outputs": [
    {
     "name": "stdout",
     "output_type": "stream",
     "text": [
      "Trying to import keras...\n"
     ]
    },
    {
     "name": "stderr",
     "output_type": "stream",
     "text": [
      "Using TensorFlow backend.\n"
     ]
    },
    {
     "name": "stdout",
     "output_type": "stream",
     "text": [
      "Keras imported.\n"
     ]
    }
   ],
   "source": [
    "try:\n",
    "    print('Trying to import keras...')\n",
    "    import keras\n",
    "    print('Keras imported.')\n",
    "except ImportError:\n",
    "    print('Keras import failed...')\n",
    "    print('Installing keras in conda environment...')\n",
    "    import sys\n",
    "    !conda install --yes --prefix {sys.prefix} keras"
   ]
  },
  {
   "cell_type": "code",
   "execution_count": 8,
   "metadata": {},
   "outputs": [],
   "source": [
    "# keras\n",
    "from sklearn.metrics import mean_squared_error\n",
    "from sklearn.preprocessing import MinMaxScaler\n",
    "from keras.models import Sequential\n",
    "from keras.layers import Dense"
   ]
  },
  {
   "cell_type": "code",
   "execution_count": 9,
   "metadata": {},
   "outputs": [],
   "source": [
    "def loginanddownload(hostname,uname,pwd,sfile,tfile):\n",
    "    \"\"\"\n",
    "    Can copy files and directories from PNDa to remote system.\n",
    "    Usage example:\n",
    "        loginanddownload(red_pnda_ip, username, password, remote_folder, local_destination)\n",
    "        loginanddownload('192.168.57.4', 'pnda', 'pnda', '/data', '/home/amadeusz/')\n",
    "    \n",
    "    I am using it only for download full copy of /data folder from pnda VM. There is a dependency of openssh-server\n",
    "    installation on red_pnda VM.\n",
    "    \n",
    "    \"\"\"\n",
    "    try:\n",
    "        print(\"Establishing ssh connection\")\n",
    "        ssh_client = paramiko.SSHClient()\n",
    "        ssh_client.set_missing_host_key_policy(paramiko.AutoAddPolicy())\n",
    "        ssh_client.connect(hostname=hostname, username=uname, password=pwd)\n",
    "    except paramiko.AuthenticationException:\n",
    "        print(\"Authentication failed, please verify your credentials: %s\")\n",
    "    except paramiko.SSHException as sshException:\n",
    "        print(\"Unable to establish SSH connection: %s\" % sshException)\n",
    "    except paramiko.BadHostKeyException as badHostKeyException:\n",
    "        print(\"Unable to verify server's host key: %s\" % badHostKeyException)\n",
    "    except Exception as e:\n",
    "        print(e.args)\n",
    "    try:\n",
    "        print(\"Getting SCP Client\")\n",
    "        scpclient = scp.SCPClient(ssh_client.get_transport())\n",
    "        print(\"Hostname: %s\", hostname)\n",
    "        print(\"source file: %s\", sfile)\n",
    "        print(\"target file: %s\", tfile)\n",
    "        scpclient.get(sfile,tfile, recursive = True)\n",
    "    except scp.SCPException as e:\n",
    "        print(\"Operation error: %s\", e) "
   ]
  },
  {
   "cell_type": "code",
   "execution_count": 12,
   "metadata": {},
   "outputs": [],
   "source": [
    "class Prediction:\n",
    "    \"\"\"\n",
    "    Prediction class - class for preprocessing data from red_pnda.\n",
    "    Not full variables are in use (this is a changed copy of Lecturer shared file)\n",
    "    \n",
    "    Prediction class takes exacly one argument - bytes (network traffic data)\n",
    "    It is further processed and returned in other format.\n",
    "    \n",
    "    \"\"\"\n",
    "    def __init__(self, bytes):\n",
    "        self.bytes = bytes\n",
    "        self.omega = 2.0 * np.pi / len(bytes)\n",
    "        self.export = pd.DataFrame()\n",
    "        self.x = None\n",
    "        self.data = None\n",
    "        self.y = None\n",
    "        self.train = None\n",
    "        self.index = None\n",
    "        self.train_mean = None\n",
    "        self.train_std = None\n",
    "\n",
    "    def prepare_data_for_prediction(self):\n",
    "        \"\"\"\n",
    "        From RAW data compute time dependency (x) and bandwidth (y).\n",
    "        \"\"\"\n",
    "        self.train = self.bytes\n",
    "        self.train_mean = np.mean(self.train)\n",
    "        self.train_std = np.std(self.train)\n",
    "        self.train = (self.train - self.train_mean) / self.train_std\n",
    "        self.index = np.asarray(range(len(self.train)), dtype=np.float64)\n",
    "        self.x = np.asarray(range(len(self.train)), dtype=np.float64)\n",
    "        self.y = self.train\n",
    "        self.data = pd.DataFrame(np.column_stack([self.x, self.y]), columns=['x', 'y'])\n",
    "\n",
    "    def proceed_prediction(self, percent):\n",
    "        \"\"\"\n",
    "        Start data preprocessing.\n",
    "        \"\"\"\n",
    "        self.prepare_data_for_prediction()"
   ]
  },
  {
   "cell_type": "code",
   "execution_count": 17,
   "metadata": {},
   "outputs": [],
   "source": [
    "class WatchDog:\n",
    "    \"\"\"\n",
    "    WatchDog class - extracts bandwidth information from collected flow and port data.\n",
    "    (Not all variables are in use)\n",
    "    \n",
    "    self.dpid - particular switch identification number\n",
    "    self.port_no - particular port number on the switch\n",
    "    \"\"\"\n",
    "    def __init__(self, data_path):    \n",
    "        self.interval = 300\n",
    "        self.unusual = 0\n",
    "        self.normal_work = True\n",
    "        self.train_data = None\n",
    "        self.pred = None\n",
    "        self.pi = None\n",
    "        self.current_stats = None\n",
    "        self.sched = BackgroundScheduler()\n",
    "        self.sched.start()\n",
    "        self.dpid = 2\n",
    "        self.port_no = 2\n",
    "        self.resampled = None\n",
    "        self.data_path = data_path\n",
    "        \n",
    "    def get_last_hour_stats(self):\n",
    "        \"\"\"\n",
    "        Currently not in use.\n",
    "        \"\"\"\n",
    "        last_hour_time = datetime.now() - timedelta(hours = 1)\n",
    "        year = int(last_hour_time.strftime(\"%Y\"))\n",
    "        month = int(last_hour_time.strftime(\"%m\"))\n",
    "        day = int(last_hour_time.strftime(\"%d\"))\n",
    "        hour = int(last_hour_time.strftime(\"%H\"))\n",
    "        self.train_data = sqlContext.read.json(self.data_path+\"data/year=\"+str(year)+\"/month=\"+str(month)+\n",
    "                                             \"/day=\"+str(day)+\"/hour=\"+str(hour)+\"/dump.json\")\n",
    "        \n",
    "    def get_previous_day_stats(self):\n",
    "        \"\"\"\n",
    "        Gather statistics from particular hour/day.\n",
    "        You can change dates based on your gathered data.\n",
    "        \"\"\"\n",
    "        year=\"2018\"\n",
    "        month=\"12\"\n",
    "        day=\"22\"\n",
    "        hour=12\n",
    "        data = sqlContext.read.json(self.data_path+\"data/year=\"+year+\"/month=\"+month+\"/day=\"+day+\"/hour=\"+str(hour)+\"/dump.json\")\n",
    "\n",
    "        d = []\n",
    "#         for h in range(hour+1,24):\n",
    "        # merge stats starts from specific hour till other specific hour (hour+1,hour_number)\n",
    "        for h in range(hour+1,15):\n",
    "            d.append(sqlContext.read.json(self.data_path+\"data/year=\"+year+\"/month=\"+month+\"/day=\"+day+\"/hour=\"+str(h)+\"/dump.json\"))\n",
    "        for i in range(0,len(d)):\n",
    "            data = data.unionAll(d[i])            \n",
    "        self.train_data = data\n",
    "\n",
    "    \n",
    "    def get_current_stats(self):\n",
    "        \"\"\"\n",
    "        Currently not in use.\n",
    "        \"\"\"\n",
    "        year = int(time.strftime(\"%Y\"))\n",
    "        month = int(time.strftime(\"%m\"))\n",
    "        day = int(time.strftime(\"%d\"))\n",
    "        hour = int(time.strftime(\"%H\"))\n",
    "        self.current_stats = sqlContext.read.json(self.data_path+\"data/year=\"+str(year)+\"/month=\"+str(month)+\n",
    "                                             \"/day=\"+str(day)+\"/hour=\"+str(hour)+\"/dump.json\")\n",
    "    \n",
    "    def get_port_stats(self,data,dpid,port_no):\n",
    "        \"\"\"\n",
    "        Gathers data from specific port on the switch.\n",
    "        \"\"\"\n",
    "        port = data.filter((data['origin']=='port_stats') & \n",
    "                           (data['switch_id']==dpid) & \n",
    "                           (data['port_no']==port_no)).orderBy('timestamp')\n",
    "        port = port.toPandas()\n",
    "        ts = pd.Series(port['timestamp'].astype(int))\n",
    "        ts = pd.to_datetime(ts, unit='s')\n",
    "        index = pd.DatetimeIndex(ts)\n",
    "        raw_data = pd.Series(port['tx_bytes'].values, index=index)\n",
    "        return raw_data, port\n",
    "    \n",
    "    def get_last_tput(self,dpid,port_no):\n",
    "        \"\"\"\n",
    "        Currently not in use.\n",
    "        \"\"\"\n",
    "        last_two_rows = self.current_stats.filter((self.current_stats['origin']=='port_stats') & \n",
    "                           (self.current_stats['switch_id']==dpid) & \n",
    "                           (self.current_stats['port_no']==port_no)).orderBy('timestamp', ascending=False).limit(2)\n",
    "        last_two_rows = last_two_rows.toPandas()\n",
    "        bytes = last_two_rows['tx_bytes'].astype(int)\n",
    "        time = last_two_rows['timestamp'].astype(int)\n",
    "        tput = (bytes[0]-bytes[1])/(time[0]-time[1])\n",
    "        return tput\n",
    "        \n",
    "    def resample_port_stats (self,raw_data, port):\n",
    "        \"\"\"\n",
    "        Resamples data into correct date format and frequency.\n",
    "        \"\"\"\n",
    "        raw_data = raw_data[~raw_data.index.duplicated(keep='first')]\n",
    "        resampled_data = raw_data.resample('s').interpolate()\n",
    "        resampled_data = [(y - x) for x,y in zip(resampled_data.values,resampled_data.values[1:])]\n",
    "        ts_resampled = pd.Series(range(len(resampled_data)))\n",
    "        ts_resampled= pd.to_datetime(ts_resampled, unit='s')\n",
    "        return resampled_data, ts_resampled\n",
    "               \n",
    "    def proceed_prediction(self,enable_plot=False):\n",
    "        \"\"\"\n",
    "        Start preprocessing traffic data.\n",
    "        \n",
    "        If you want to download data to your localhost just uncomment first line.\n",
    "        This is not necessary when you have all the data stored locally already.\n",
    "        \"\"\"\n",
    "#         loginanddownload('192.168.57.4', 'pnda', 'pnda', '/data', '/home/amadeusz/')\n",
    "#         self.get_current_stats()\n",
    "        self.get_previous_day_stats()\n",
    "        data, port_stats = self.get_port_stats(self.train_data,self.dpid,self.port_no)\n",
    "        resampled_data, ts_resampled = self.resample_port_stats(data, port_stats)\n",
    "        self.resampled = resampled_data\n",
    "        prediction = Prediction(resampled_data)\n",
    "        prediction.proceed_prediction(95)\n",
    "#         pred, pi, mean, median, peak, percentile, harm_num = prediction.proceed_prediction(95)\n",
    "#         self.pred = pred\n",
    "#         self.pi = pi\n",
    "        self.ts_resampled = ts_resampled\n",
    "        if enable_plot:\n",
    "            fig = plt.figure(figsize=(15,8))\n",
    "            ax = fig.add_subplot(111)\n",
    "            ax.plot(ts_resampled,[x*8/1e6 for x in resampled_data])\n",
    "#             ax.plot(ts_resampled,[x*8/1e6 for x in pred])\n",
    "#             ax.plot(ts_resampled,[x*8/1e6 for x in (pred-pi)])\n",
    "#             ax.plot(ts_resampled,[x*8/1e6 for x in (pred+pi)])\n",
    "            ax.set_ylabel(\"Tput [Mbps]\")\n",
    "            ax.xaxis.set_major_formatter(mdates.DateFormatter('%H:%M'))\n",
    "#             print(\"number of harmonics = %i\" % harm_num)\n",
    "#         return pred, pi"
   ]
  },
  {
   "cell_type": "markdown",
   "metadata": {},
   "source": [
    "***Load the data***\n",
    "Preprocessed data will be stored in wd.resampled"
   ]
  },
  {
   "cell_type": "code",
   "execution_count": 18,
   "metadata": {},
   "outputs": [],
   "source": [
    "# please specify path to data folder\n",
    "wd = WatchDog(\"/home/misliwin/Desktop/sdn/SDN_data_preprocessing_simple_NN_with_data/\")\n",
    "wd.proceed_prediction()\n",
    "#wd.get_last_hour_stats()\n",
    "series = [x*8/1e6 for x in wd.resampled]"
   ]
  },
  {
   "cell_type": "code",
   "execution_count": null,
   "metadata": {
    "scrolled": true
   },
   "outputs": [],
   "source": []
  },
  {
   "cell_type": "markdown",
   "metadata": {},
   "source": [
    "# Simple Neural Network part (only one step ahead prediction)"
   ]
  },
  {
   "cell_type": "code",
   "execution_count": 19,
   "metadata": {
    "scrolled": true
   },
   "outputs": [
    {
     "name": "stdout",
     "output_type": "stream",
     "text": [
      "(7893, 450)\n",
      "(7893, 450)\n"
     ]
    }
   ],
   "source": [
    "# frame a sequence as a supervised learning problem\n",
    "def timeseries_to_supervised(data, lag=1):\n",
    "    df = pd.DataFrame(data)\n",
    "    columns = [df.shift(i) for i in range(1, lag+1)]\n",
    "    columns.append(df)\n",
    "    df = pd.concat(columns, axis=1)\n",
    "    df.fillna(0, inplace=True)\n",
    "    return df\n",
    " \n",
    "# create a differenced series\n",
    "def difference(dataset, interval=1):\n",
    "    diff = list()\n",
    "    for i in range(interval, len(dataset)):\n",
    "        value = dataset[i] - dataset[i - interval]\n",
    "        diff.append(value)\n",
    "    return pd.Series(diff)\n",
    " \n",
    "# invert differenced value\n",
    "def inverse_difference(history, yhat, interval=1):\n",
    "    return yhat + history[-interval]\n",
    " \n",
    "# scale train and test data to [-1, 1]\n",
    "def scale(train, test):\n",
    "    # fit scaler\n",
    "    scaler = MinMaxScaler(feature_range=(-1, 1))\n",
    "    scaler = scaler.fit(train)\n",
    "    # transform train\n",
    "    train = train.reshape(train.shape[0], train.shape[1])\n",
    "    train_scaled = scaler.transform(train)\n",
    "    # transform test\n",
    "    test = test.reshape(test.shape[0], test.shape[1])\n",
    "    test_scaled = scaler.transform(test)\n",
    "    return scaler, train_scaled, test_scaled\n",
    " \n",
    "# inverse scaling for a forecasted value\n",
    "def invert_scale(scaler, X, value):\n",
    "    new_row = [x for x in X] + [value]\n",
    "    array = np.array(new_row)\n",
    "    array = array.reshape(1, len(array))\n",
    "    inverted = scaler.inverse_transform(array)\n",
    "    return inverted[0, -1]\n",
    " \n",
    "# load dataset\n",
    "series = [x*8/1e6 for x in wd.resampled]\n",
    "\n",
    "# transform data to be stationary\n",
    "diff_values = difference(series, 1)\n",
    " \n",
    "# transform data to be supervised learning\n",
    "supervised = timeseries_to_supervised(diff_values, 1)\n",
    "supervised_values = supervised.values\n",
    " \n",
    "# split data into train and test-sets\n",
    "train, test = supervised_values[0:-2000], supervised_values[-2000:]\n",
    "\n",
    "# transform the scale of the data\n",
    "scaler, train_scaled, test_scaled = scale(train, test)\n",
    "range_size = 450\n",
    "\n",
    "X_train = train_scaled[:,0]\n",
    "Y_train = train_scaled[:,-1]\n",
    "X_test = test_scaled[:,0]\n",
    "Y_test = test_scaled[:,-1]\n",
    "\n",
    "\n",
    "try:\n",
    "    del X_train_complete\n",
    "    del X_test_complete\n",
    "    del Y_train_complete\n",
    "    del Y_test_complete\n",
    "    \n",
    "except:\n",
    "    pass\n",
    "\n",
    "for i in range(range_size):\n",
    "    if i == 0:\n",
    "        X_train_complete  =  np.array(X_train[range_size:-1-range_size])\n",
    "        X_test_complete  =  np.array(X_test[range_size:-1-range_size])\n",
    "        \n",
    "        Y_train_complete =  np.array(Y_train[2*range_size+1:])\n",
    "        Y_test_complete  =  np.array(Y_test[2*range_size+1:])\n",
    "        \n",
    "    elif i ==1:\n",
    "        X_train_complete = np.array([X_train_complete[:], X_train[range_size-i:-i-1-range_size]])\n",
    "        X_test_complete = np.array([X_test_complete[:], X_test[range_size-i:-i-1-range_size]])\n",
    "        \n",
    "        Y_train_complete = np.array([Y_train_complete[:], Y_train[2*range_size-i:-i-1]])\n",
    "        Y_test_complete = np.array([Y_test_complete[:], Y_test[2*range_size-i:-i-1]])\n",
    "    else:\n",
    "        X_train_complete = np.append(X_train_complete, [X_train[range_size-i:-i-1-range_size]], axis=0)\n",
    "        X_test_complete = np.append(X_test_complete, [X_test[range_size-i:-i-1-range_size]], axis=0)\n",
    "        \n",
    "        Y_train_complete = np.append(Y_train_complete, [Y_train[2*range_size-i:-i-1]], axis=0)\n",
    "        Y_test_complete = np.append(Y_test_complete, [Y_test[2*range_size-i:-i-1]], axis=0)\n",
    "        \n",
    "X_train_complete = np.swapaxes(X_train_complete, 1, 0)\n",
    "X_test_complete = np.swapaxes(X_test_complete, 1, 0)\n",
    "Y_train_complete = np.swapaxes(Y_train_complete, 1, 0)\n",
    "Y_test_complete = np.swapaxes(Y_test_complete, 1, 0)\n",
    "print(np.shape(X_train_complete))\n",
    "print(np.shape(Y_train_complete))\n",
    "\n",
    "#print(X_train.shape[1])"
   ]
  },
  {
   "cell_type": "code",
   "execution_count": 20,
   "metadata": {},
   "outputs": [],
   "source": [
    "np.savez(\"test_data_2\", X_test_complete, Y_test_complete, series)"
   ]
  },
  {
   "cell_type": "code",
   "execution_count": 51,
   "metadata": {
    "scrolled": true
   },
   "outputs": [
    {
     "name": "stdout",
     "output_type": "stream",
     "text": [
      "Epoch 1/3\n",
      "50993/50993 [==============================] - 8s 159us/step - loss: 0.0093\n",
      "Epoch 2/3\n",
      "50993/50993 [==============================] - 7s 145us/step - loss: 0.0053\n",
      "Epoch 3/3\n",
      "50993/50993 [==============================] - 7s 139us/step - loss: 0.0051\n",
      "_________________________________________________________________\n",
      "Layer (type)                 Output Shape              Param #   \n",
      "=================================================================\n",
      "dense_44 (Dense)             (None, 16)                8016      \n",
      "_________________________________________________________________\n",
      "dropout_33 (Dropout)         (None, 16)                0         \n",
      "_________________________________________________________________\n",
      "dense_45 (Dense)             (None, 500)               8500      \n",
      "_________________________________________________________________\n",
      "dropout_34 (Dropout)         (None, 500)               0         \n",
      "_________________________________________________________________\n",
      "dense_46 (Dense)             (None, 500)               250500    \n",
      "_________________________________________________________________\n",
      "dropout_35 (Dropout)         (None, 500)               0         \n",
      "_________________________________________________________________\n",
      "dense_47 (Dense)             (None, 500)               250500    \n",
      "=================================================================\n",
      "Total params: 517,516\n",
      "Trainable params: 517,516\n",
      "Non-trainable params: 0\n",
      "_________________________________________________________________\n"
     ]
    }
   ],
   "source": [
    "from keras.layers import Dropout\n",
    "from keras.constraints import maxnorm\n",
    "def wider_model(layer_1=500, layer_2=500, optimizer_type='adam', dropout=0.4):\n",
    "    # create model\n",
    "    model = Sequential()\n",
    "    model.add(Dense(16, input_dim=range_size, kernel_initializer='normal', activation='relu', kernel_constraint=maxnorm(3)))\n",
    "    model.add(Dropout(dropout))\n",
    "    model.add(Dense(range_size, kernel_constraint=maxnorm(3)))\n",
    "    model.add(Dropout(dropout))\n",
    "    model.add(Dense(range_size, kernel_constraint=maxnorm(3)))\n",
    "    model.add(Dropout(dropout))\n",
    "    model.add(Dense(range_size, kernel_initializer='normal'))\n",
    "    # Compile model\n",
    "    model.compile(loss='mean_squared_error', optimizer=optimizer_type)\n",
    "    return model\n",
    "model = wider_model()\n",
    "history = model.fit(X_train_complete, Y_train_complete, epochs=3, batch_size=1000, verbose=1)\n",
    "model.summary()"
   ]
  },
  {
   "cell_type": "code",
   "execution_count": 59,
   "metadata": {},
   "outputs": [
    {
     "name": "stdout",
     "output_type": "stream",
     "text": [
      "Epoch 1/3\n",
      "50993/50993 [==============================] - 9s 171us/step - loss: 0.0358\n",
      "Epoch 2/3\n",
      "50993/50993 [==============================] - 7s 136us/step - loss: 0.0276\n",
      "Epoch 3/3\n",
      "50993/50993 [==============================] - 7s 137us/step - loss: 0.0260\n",
      "0\n",
      "Test RMSE: 279.601\n",
      "Epoch 1/3\n",
      "50993/50993 [==============================] - 8s 158us/step - loss: 0.0312\n",
      "Epoch 2/3\n",
      "50993/50993 [==============================] - 7s 136us/step - loss: 0.0268\n",
      "Epoch 3/3\n",
      "50993/50993 [==============================] - 7s 140us/step - loss: 0.0244\n",
      "1\n",
      "Test RMSE: 327.235\n",
      "Epoch 1/3\n",
      "50993/50993 [==============================] - 9s 180us/step - loss: 0.0425\n",
      "Epoch 2/3\n",
      "50993/50993 [==============================] - 7s 145us/step - loss: 0.0282\n",
      "Epoch 3/3\n",
      "50993/50993 [==============================] - 7s 140us/step - loss: 0.0268\n",
      "2\n",
      "Test RMSE: 285.806\n",
      "Epoch 1/3\n",
      "50993/50993 [==============================] - 9s 167us/step - loss: 0.0309\n",
      "Epoch 2/3\n",
      "50993/50993 [==============================] - 7s 146us/step - loss: 0.0270\n",
      "Epoch 3/3\n",
      "50993/50993 [==============================] - 7s 142us/step - loss: 0.0245\n",
      "3\n",
      "Test RMSE: 291.676\n",
      "Epoch 1/3\n",
      "50993/50993 [==============================] - 9s 171us/step - loss: 0.0303\n",
      "Epoch 2/3\n",
      "50993/50993 [==============================] - 7s 144us/step - loss: 0.0271\n",
      "Epoch 3/3\n",
      "50993/50993 [==============================] - 7s 143us/step - loss: 0.0248\n",
      "4\n",
      "Test RMSE: 204.749\n",
      "Epoch 1/3\n",
      "50993/50993 [==============================] - 9s 168us/step - loss: 0.0299\n",
      "Epoch 2/3\n",
      "50993/50993 [==============================] - 8s 148us/step - loss: 0.0261\n",
      "Epoch 3/3\n",
      "50993/50993 [==============================] - 7s 145us/step - loss: 0.0229\n",
      "5\n",
      "Test RMSE: 216.492\n",
      "Epoch 1/3\n",
      "50993/50993 [==============================] - 9s 169us/step - loss: 0.0347\n",
      "Epoch 2/3\n",
      "50993/50993 [==============================] - 7s 138us/step - loss: 0.0274\n",
      "Epoch 3/3\n",
      "50993/50993 [==============================] - 7s 139us/step - loss: 0.0257\n",
      "6\n",
      "Test RMSE: 253.506\n",
      "Epoch 1/3\n",
      "50993/50993 [==============================] - 9s 172us/step - loss: 0.0303\n",
      "Epoch 2/3\n",
      "50993/50993 [==============================] - 7s 137us/step - loss: 0.0262\n",
      "Epoch 3/3\n",
      "50993/50993 [==============================] - 7s 140us/step - loss: 0.0233\n",
      "7\n",
      "Test RMSE: 210.488\n",
      "Epoch 1/3\n",
      "50993/50993 [==============================] - 9s 180us/step - loss: 0.0315\n",
      "Epoch 2/3\n",
      "50993/50993 [==============================] - 7s 146us/step - loss: 0.0268\n",
      "Epoch 3/3\n",
      "50993/50993 [==============================] - 7s 140us/step - loss: 0.0243\n",
      "8\n",
      "Test RMSE: 227.951\n",
      "Epoch 1/3\n",
      "50993/50993 [==============================] - 9s 177us/step - loss: 0.0319\n",
      "Epoch 2/3\n",
      "50993/50993 [==============================] - 7s 140us/step - loss: 0.0272\n",
      "Epoch 3/3\n",
      "50993/50993 [==============================] - 7s 137us/step - loss: 0.0254\n",
      "9\n",
      "Test RMSE: 270.826\n",
      "Epoch 1/3\n",
      "50993/50993 [==============================] - 9s 175us/step - loss: 0.0321\n",
      "Epoch 2/3\n",
      "50993/50993 [==============================] - 7s 141us/step - loss: 0.0269\n",
      "Epoch 3/3\n",
      "50993/50993 [==============================] - 7s 138us/step - loss: 0.0245\n",
      "10\n",
      "Test RMSE: 343.959\n",
      "Epoch 1/3\n",
      "50993/50993 [==============================] - 9s 181us/step - loss: 0.0330\n",
      "Epoch 2/3\n",
      "50993/50993 [==============================] - 7s 143us/step - loss: 0.0271\n",
      "Epoch 3/3\n",
      "50993/50993 [==============================] - 7s 142us/step - loss: 0.0248\n",
      "11\n",
      "Test RMSE: 284.646\n",
      "Epoch 1/3\n",
      "50993/50993 [==============================] - 9s 184us/step - loss: 0.0320\n",
      "Epoch 2/3\n",
      "50993/50993 [==============================] - 7s 140us/step - loss: 0.0271\n",
      "Epoch 3/3\n",
      "50993/50993 [==============================] - 7s 147us/step - loss: 0.0250\n",
      "12\n",
      "Test RMSE: 293.328\n",
      "Epoch 1/3\n",
      "50993/50993 [==============================] - 9s 186us/step - loss: 0.0331\n",
      "Epoch 2/3\n",
      "50993/50993 [==============================] - 7s 138us/step - loss: 0.0274\n",
      "Epoch 3/3\n",
      "50993/50993 [==============================] - 10s 193us/step - loss: 0.0254\n",
      "13\n",
      "Test RMSE: 270.526\n",
      "Epoch 1/3\n",
      "50993/50993 [==============================] - 9s 180us/step - loss: 0.0309\n",
      "Epoch 2/3\n",
      "50993/50993 [==============================] - 7s 130us/step - loss: 0.0267\n",
      "Epoch 3/3\n",
      "50993/50993 [==============================] - 7s 130us/step - loss: 0.0242\n",
      "14\n",
      "Test RMSE: 226.640\n",
      "Epoch 1/3\n",
      "50993/50993 [==============================] - 9s 179us/step - loss: 0.0384\n",
      "Epoch 2/3\n",
      "50993/50993 [==============================] - 7s 131us/step - loss: 0.0279\n",
      "Epoch 3/3\n",
      "50993/50993 [==============================] - 7s 132us/step - loss: 0.0264\n",
      "15\n",
      "Test RMSE: 327.541\n",
      "Epoch 1/3\n",
      "50993/50993 [==============================] - 10s 187us/step - loss: 0.0321\n",
      "Epoch 2/3\n",
      "50993/50993 [==============================] - 7s 136us/step - loss: 0.0269\n",
      "Epoch 3/3\n",
      "50993/50993 [==============================] - 7s 136us/step - loss: 0.0245\n",
      "16\n",
      "Test RMSE: 279.390\n",
      "Epoch 1/3\n",
      "50993/50993 [==============================] - 10s 191us/step - loss: 0.1969\n",
      "Epoch 2/3\n",
      "50993/50993 [==============================] - 7s 133us/step - loss: 0.0288\n",
      "Epoch 3/3\n",
      "50993/50993 [==============================] - 7s 133us/step - loss: 0.0277\n",
      "17\n",
      "Test RMSE: 321.776\n",
      "Epoch 1/3\n",
      "50993/50993 [==============================] - 9s 186us/step - loss: 0.0316\n",
      "Epoch 2/3\n",
      "50993/50993 [==============================] - 7s 132us/step - loss: 0.0271\n",
      "Epoch 3/3\n",
      "50993/50993 [==============================] - 7s 134us/step - loss: 0.0248\n",
      "18\n",
      "Test RMSE: 336.220\n",
      "Epoch 1/3\n",
      "50993/50993 [==============================] - 10s 205us/step - loss: 0.0301\n",
      "Epoch 2/3\n",
      "50993/50993 [==============================] - 7s 130us/step - loss: 0.0267\n",
      "Epoch 3/3\n",
      "50993/50993 [==============================] - 7s 135us/step - loss: 0.0240\n",
      "19\n",
      "Test RMSE: 229.519\n",
      "Epoch 1/3\n",
      "50993/50993 [==============================] - 11s 211us/step - loss: 0.0327\n",
      "Epoch 2/3\n",
      "50993/50993 [==============================] - 7s 131us/step - loss: 0.0271\n",
      "Epoch 3/3\n",
      "50993/50993 [==============================] - 7s 132us/step - loss: 0.0251\n",
      "20\n",
      "Test RMSE: 257.484\n",
      "Epoch 1/3\n",
      "50993/50993 [==============================] - 10s 200us/step - loss: 0.0371\n",
      "Epoch 2/3\n",
      "50993/50993 [==============================] - 7s 131us/step - loss: 0.0278\n",
      "Epoch 3/3\n",
      "50993/50993 [==============================] - 7s 130us/step - loss: 0.0263\n",
      "21\n",
      "Test RMSE: 260.110\n",
      "Epoch 1/3\n",
      "50993/50993 [==============================] - 11s 206us/step - loss: 0.0357\n",
      "Epoch 2/3\n",
      "50993/50993 [==============================] - 7s 142us/step - loss: 0.0273\n",
      "Epoch 3/3\n",
      "50993/50993 [==============================] - 7s 133us/step - loss: 0.0255\n",
      "22\n",
      "Test RMSE: 319.756\n",
      "Epoch 1/3\n",
      "50993/50993 [==============================] - 24s 474us/step - loss: 0.0306\n",
      "Epoch 2/3\n",
      "50993/50993 [==============================] - 37s 719us/step - loss: 0.0264\n",
      "Epoch 3/3\n",
      "50993/50993 [==============================] - 71s 1ms/step - loss: 0.0234\n",
      "23\n",
      "Test RMSE: 238.087\n",
      "Epoch 1/3\n",
      "50993/50993 [==============================] - 357s 7ms/step - loss: 0.0305\n",
      "Epoch 2/3\n",
      " 2000/50993 [>.............................] - ETA: 31:55 - loss: 0.0279"
     ]
    },
    {
     "name": "stderr",
     "output_type": "stream",
     "text": [
      "/home/misliwin/.local/lib/python3.6/site-packages/keras/callbacks.py:122: UserWarning: Method on_batch_end() is slow compared to the batch update (9.928297). Check your callbacks.\n",
      "  % delta_t_median)\n"
     ]
    },
    {
     "name": "stdout",
     "output_type": "stream",
     "text": [
      "50993/50993 [==============================] - 144s 3ms/step - loss: 0.0264\n",
      "Epoch 3/3\n",
      "50993/50993 [==============================] - 67s 1ms/step - loss: 0.0236\n",
      "24\n",
      "Test RMSE: 368.303\n",
      "Epoch 1/3\n",
      "32000/50993 [=================>............] - ETA: 27:07 - loss: 0.0137 ETA: 22:14 - loss: 0. - ETA: 23:27 - loss: 0.02 - ETA: 25 - ETA: 32:32 - loss - ETA: 30:10 - loss"
     ]
    },
    {
     "name": "stderr",
     "output_type": "stream",
     "text": [
      "/home/misliwin/.local/lib/python3.6/site-packages/keras/callbacks.py:122: UserWarning: Method on_batch_end() is slow compared to the batch update (2.288875). Check your callbacks.\n",
      "  % delta_t_median)\n"
     ]
    },
    {
     "name": "stdout",
     "output_type": "stream",
     "text": [
      "34000/50993 [===================>..........] - ETA: 22:50 - loss: 0.0133"
     ]
    },
    {
     "name": "stderr",
     "output_type": "stream",
     "text": [
      "/home/misliwin/.local/lib/python3.6/site-packages/keras/callbacks.py:122: UserWarning: Method on_batch_end() is slow compared to the batch update (0.718625). Check your callbacks.\n",
      "  % delta_t_median)\n"
     ]
    },
    {
     "name": "stdout",
     "output_type": "stream",
     "text": [
      "50993/50993 [==============================] - 2750s 54ms/step - loss: 0.0108\n",
      "Epoch 2/3\n",
      "50993/50993 [==============================] - 12s 233us/step - loss: 0.0054\n",
      "Epoch 3/3\n",
      "21000/50993 [===========>..................] - ETA: 5s - loss: 0.0052"
     ]
    },
    {
     "ename": "KeyboardInterrupt",
     "evalue": "",
     "output_type": "error",
     "traceback": [
      "\u001b[0;31m---------------------------------------------------------------------------\u001b[0m",
      "\u001b[0;31mKeyboardInterrupt\u001b[0m                         Traceback (most recent call last)",
      "\u001b[0;32m<ipython-input-59-63f7bcd9e78a>\u001b[0m in \u001b[0;36m<module>\u001b[0;34m\u001b[0m\n\u001b[1;32m     18\u001b[0m         \u001b[0mopt\u001b[0m \u001b[0;34m=\u001b[0m \u001b[0moptimizers\u001b[0m\u001b[0;34m.\u001b[0m\u001b[0mAdam\u001b[0m\u001b[0;34m(\u001b[0m\u001b[0mlr\u001b[0m\u001b[0;34m=\u001b[0m\u001b[0;36m0.001\u001b[0m\u001b[0;34m,\u001b[0m \u001b[0mbeta_1\u001b[0m\u001b[0;34m=\u001b[0m\u001b[0;36m0.9\u001b[0m\u001b[0;34m,\u001b[0m \u001b[0mbeta_2\u001b[0m\u001b[0;34m=\u001b[0m\u001b[0;36m0.999\u001b[0m\u001b[0;34m,\u001b[0m \u001b[0mepsilon\u001b[0m\u001b[0;34m=\u001b[0m\u001b[0;32mNone\u001b[0m\u001b[0;34m,\u001b[0m \u001b[0mdecay\u001b[0m\u001b[0;34m=\u001b[0m\u001b[0;36m0.0\u001b[0m\u001b[0;34m,\u001b[0m \u001b[0mamsgrad\u001b[0m\u001b[0;34m=\u001b[0m\u001b[0;32mFalse\u001b[0m\u001b[0;34m)\u001b[0m\u001b[0;34m\u001b[0m\u001b[0;34m\u001b[0m\u001b[0m\n\u001b[1;32m     19\u001b[0m     \u001b[0mmodel\u001b[0m \u001b[0;34m=\u001b[0m \u001b[0mwider_model\u001b[0m\u001b[0;34m(\u001b[0m\u001b[0;36m200\u001b[0m \u001b[0;34m+\u001b[0m \u001b[0mnp\u001b[0m\u001b[0;34m.\u001b[0m\u001b[0mround\u001b[0m\u001b[0;34m(\u001b[0m\u001b[0mrandom\u001b[0m\u001b[0;34m.\u001b[0m\u001b[0muniform\u001b[0m\u001b[0;34m(\u001b[0m\u001b[0;36m0\u001b[0m\u001b[0;34m,\u001b[0m \u001b[0;36m600\u001b[0m\u001b[0;34m)\u001b[0m\u001b[0;34m)\u001b[0m\u001b[0;34m,\u001b[0m \u001b[0;36m200\u001b[0m \u001b[0;34m+\u001b[0m \u001b[0mnp\u001b[0m\u001b[0;34m.\u001b[0m\u001b[0mround\u001b[0m\u001b[0;34m(\u001b[0m\u001b[0mrandom\u001b[0m\u001b[0;34m.\u001b[0m\u001b[0muniform\u001b[0m\u001b[0;34m(\u001b[0m\u001b[0;36m0\u001b[0m\u001b[0;34m,\u001b[0m \u001b[0;36m600\u001b[0m\u001b[0;34m)\u001b[0m\u001b[0;34m)\u001b[0m\u001b[0;34m,\u001b[0m \u001b[0mopt\u001b[0m\u001b[0;34m,\u001b[0m\u001b[0mrandom\u001b[0m\u001b[0;34m.\u001b[0m\u001b[0muniform\u001b[0m\u001b[0;34m(\u001b[0m\u001b[0;36m0\u001b[0m\u001b[0;34m,\u001b[0m \u001b[0;36m1\u001b[0m\u001b[0;34m)\u001b[0m\u001b[0;34m)\u001b[0m\u001b[0;34m\u001b[0m\u001b[0;34m\u001b[0m\u001b[0m\n\u001b[0;32m---> 20\u001b[0;31m     \u001b[0mhistory\u001b[0m \u001b[0;34m=\u001b[0m \u001b[0mmodel\u001b[0m\u001b[0;34m.\u001b[0m\u001b[0mfit\u001b[0m\u001b[0;34m(\u001b[0m\u001b[0mX_train_complete\u001b[0m\u001b[0;34m,\u001b[0m \u001b[0mY_train_complete\u001b[0m\u001b[0;34m,\u001b[0m \u001b[0mepochs\u001b[0m\u001b[0;34m=\u001b[0m\u001b[0;36m3\u001b[0m\u001b[0;34m,\u001b[0m \u001b[0mbatch_size\u001b[0m\u001b[0;34m=\u001b[0m\u001b[0;36m1000\u001b[0m\u001b[0;34m,\u001b[0m \u001b[0mverbose\u001b[0m\u001b[0;34m=\u001b[0m\u001b[0;36m1\u001b[0m\u001b[0;34m)\u001b[0m\u001b[0;34m\u001b[0m\u001b[0;34m\u001b[0m\u001b[0m\n\u001b[0m\u001b[1;32m     21\u001b[0m     \u001b[0mpredictions\u001b[0m \u001b[0;34m=\u001b[0m \u001b[0mmodel\u001b[0m\u001b[0;34m.\u001b[0m\u001b[0mpredict\u001b[0m\u001b[0;34m(\u001b[0m\u001b[0mX_test_complete\u001b[0m\u001b[0;34m,\u001b[0m \u001b[0mbatch_size\u001b[0m\u001b[0;34m=\u001b[0m\u001b[0;36m1000\u001b[0m\u001b[0;34m)\u001b[0m\u001b[0;34m\u001b[0m\u001b[0;34m\u001b[0m\u001b[0m\n\u001b[1;32m     22\u001b[0m     \u001b[0mpred\u001b[0m \u001b[0;34m=\u001b[0m \u001b[0mlist\u001b[0m\u001b[0;34m(\u001b[0m\u001b[0;34m)\u001b[0m\u001b[0;34m\u001b[0m\u001b[0;34m\u001b[0m\u001b[0m\n",
      "\u001b[0;32m~/.local/lib/python3.6/site-packages/keras/engine/training.py\u001b[0m in \u001b[0;36mfit\u001b[0;34m(self, x, y, batch_size, epochs, verbose, callbacks, validation_split, validation_data, shuffle, class_weight, sample_weight, initial_epoch, steps_per_epoch, validation_steps, **kwargs)\u001b[0m\n\u001b[1;32m   1037\u001b[0m                                         \u001b[0minitial_epoch\u001b[0m\u001b[0;34m=\u001b[0m\u001b[0minitial_epoch\u001b[0m\u001b[0;34m,\u001b[0m\u001b[0;34m\u001b[0m\u001b[0;34m\u001b[0m\u001b[0m\n\u001b[1;32m   1038\u001b[0m                                         \u001b[0msteps_per_epoch\u001b[0m\u001b[0;34m=\u001b[0m\u001b[0msteps_per_epoch\u001b[0m\u001b[0;34m,\u001b[0m\u001b[0;34m\u001b[0m\u001b[0;34m\u001b[0m\u001b[0m\n\u001b[0;32m-> 1039\u001b[0;31m                                         validation_steps=validation_steps)\n\u001b[0m\u001b[1;32m   1040\u001b[0m \u001b[0;34m\u001b[0m\u001b[0m\n\u001b[1;32m   1041\u001b[0m     def evaluate(self, x=None, y=None,\n",
      "\u001b[0;32m~/.local/lib/python3.6/site-packages/keras/engine/training_arrays.py\u001b[0m in \u001b[0;36mfit_loop\u001b[0;34m(model, f, ins, out_labels, batch_size, epochs, verbose, callbacks, val_f, val_ins, shuffle, callback_metrics, initial_epoch, steps_per_epoch, validation_steps)\u001b[0m\n\u001b[1;32m    197\u001b[0m                     \u001b[0mins_batch\u001b[0m\u001b[0;34m[\u001b[0m\u001b[0mi\u001b[0m\u001b[0;34m]\u001b[0m \u001b[0;34m=\u001b[0m \u001b[0mins_batch\u001b[0m\u001b[0;34m[\u001b[0m\u001b[0mi\u001b[0m\u001b[0;34m]\u001b[0m\u001b[0;34m.\u001b[0m\u001b[0mtoarray\u001b[0m\u001b[0;34m(\u001b[0m\u001b[0;34m)\u001b[0m\u001b[0;34m\u001b[0m\u001b[0;34m\u001b[0m\u001b[0m\n\u001b[1;32m    198\u001b[0m \u001b[0;34m\u001b[0m\u001b[0m\n\u001b[0;32m--> 199\u001b[0;31m                 \u001b[0mouts\u001b[0m \u001b[0;34m=\u001b[0m \u001b[0mf\u001b[0m\u001b[0;34m(\u001b[0m\u001b[0mins_batch\u001b[0m\u001b[0;34m)\u001b[0m\u001b[0;34m\u001b[0m\u001b[0;34m\u001b[0m\u001b[0m\n\u001b[0m\u001b[1;32m    200\u001b[0m                 \u001b[0mouts\u001b[0m \u001b[0;34m=\u001b[0m \u001b[0mto_list\u001b[0m\u001b[0;34m(\u001b[0m\u001b[0mouts\u001b[0m\u001b[0;34m)\u001b[0m\u001b[0;34m\u001b[0m\u001b[0;34m\u001b[0m\u001b[0m\n\u001b[1;32m    201\u001b[0m                 \u001b[0;32mfor\u001b[0m \u001b[0ml\u001b[0m\u001b[0;34m,\u001b[0m \u001b[0mo\u001b[0m \u001b[0;32min\u001b[0m \u001b[0mzip\u001b[0m\u001b[0;34m(\u001b[0m\u001b[0mout_labels\u001b[0m\u001b[0;34m,\u001b[0m \u001b[0mouts\u001b[0m\u001b[0;34m)\u001b[0m\u001b[0;34m:\u001b[0m\u001b[0;34m\u001b[0m\u001b[0;34m\u001b[0m\u001b[0m\n",
      "\u001b[0;32m~/.local/lib/python3.6/site-packages/keras/backend/tensorflow_backend.py\u001b[0m in \u001b[0;36m__call__\u001b[0;34m(self, inputs)\u001b[0m\n\u001b[1;32m   2713\u001b[0m                 \u001b[0;32mreturn\u001b[0m \u001b[0mself\u001b[0m\u001b[0;34m.\u001b[0m\u001b[0m_legacy_call\u001b[0m\u001b[0;34m(\u001b[0m\u001b[0minputs\u001b[0m\u001b[0;34m)\u001b[0m\u001b[0;34m\u001b[0m\u001b[0;34m\u001b[0m\u001b[0m\n\u001b[1;32m   2714\u001b[0m \u001b[0;34m\u001b[0m\u001b[0m\n\u001b[0;32m-> 2715\u001b[0;31m             \u001b[0;32mreturn\u001b[0m \u001b[0mself\u001b[0m\u001b[0;34m.\u001b[0m\u001b[0m_call\u001b[0m\u001b[0;34m(\u001b[0m\u001b[0minputs\u001b[0m\u001b[0;34m)\u001b[0m\u001b[0;34m\u001b[0m\u001b[0;34m\u001b[0m\u001b[0m\n\u001b[0m\u001b[1;32m   2716\u001b[0m         \u001b[0;32melse\u001b[0m\u001b[0;34m:\u001b[0m\u001b[0;34m\u001b[0m\u001b[0;34m\u001b[0m\u001b[0m\n\u001b[1;32m   2717\u001b[0m             \u001b[0;32mif\u001b[0m \u001b[0mpy_any\u001b[0m\u001b[0;34m(\u001b[0m\u001b[0mis_tensor\u001b[0m\u001b[0;34m(\u001b[0m\u001b[0mx\u001b[0m\u001b[0;34m)\u001b[0m \u001b[0;32mfor\u001b[0m \u001b[0mx\u001b[0m \u001b[0;32min\u001b[0m \u001b[0minputs\u001b[0m\u001b[0;34m)\u001b[0m\u001b[0;34m:\u001b[0m\u001b[0;34m\u001b[0m\u001b[0;34m\u001b[0m\u001b[0m\n",
      "\u001b[0;32m~/.local/lib/python3.6/site-packages/keras/backend/tensorflow_backend.py\u001b[0m in \u001b[0;36m_call\u001b[0;34m(self, inputs)\u001b[0m\n\u001b[1;32m   2673\u001b[0m             \u001b[0mfetched\u001b[0m \u001b[0;34m=\u001b[0m \u001b[0mself\u001b[0m\u001b[0;34m.\u001b[0m\u001b[0m_callable_fn\u001b[0m\u001b[0;34m(\u001b[0m\u001b[0;34m*\u001b[0m\u001b[0marray_vals\u001b[0m\u001b[0;34m,\u001b[0m \u001b[0mrun_metadata\u001b[0m\u001b[0;34m=\u001b[0m\u001b[0mself\u001b[0m\u001b[0;34m.\u001b[0m\u001b[0mrun_metadata\u001b[0m\u001b[0;34m)\u001b[0m\u001b[0;34m\u001b[0m\u001b[0;34m\u001b[0m\u001b[0m\n\u001b[1;32m   2674\u001b[0m         \u001b[0;32melse\u001b[0m\u001b[0;34m:\u001b[0m\u001b[0;34m\u001b[0m\u001b[0;34m\u001b[0m\u001b[0m\n\u001b[0;32m-> 2675\u001b[0;31m             \u001b[0mfetched\u001b[0m \u001b[0;34m=\u001b[0m \u001b[0mself\u001b[0m\u001b[0;34m.\u001b[0m\u001b[0m_callable_fn\u001b[0m\u001b[0;34m(\u001b[0m\u001b[0;34m*\u001b[0m\u001b[0marray_vals\u001b[0m\u001b[0;34m)\u001b[0m\u001b[0;34m\u001b[0m\u001b[0;34m\u001b[0m\u001b[0m\n\u001b[0m\u001b[1;32m   2676\u001b[0m         \u001b[0;32mreturn\u001b[0m \u001b[0mfetched\u001b[0m\u001b[0;34m[\u001b[0m\u001b[0;34m:\u001b[0m\u001b[0mlen\u001b[0m\u001b[0;34m(\u001b[0m\u001b[0mself\u001b[0m\u001b[0;34m.\u001b[0m\u001b[0moutputs\u001b[0m\u001b[0;34m)\u001b[0m\u001b[0;34m]\u001b[0m\u001b[0;34m\u001b[0m\u001b[0;34m\u001b[0m\u001b[0m\n\u001b[1;32m   2677\u001b[0m \u001b[0;34m\u001b[0m\u001b[0m\n",
      "\u001b[0;32m~/.local/lib/python3.6/site-packages/tensorflow/python/client/session.py\u001b[0m in \u001b[0;36m__call__\u001b[0;34m(self, *args, **kwargs)\u001b[0m\n\u001b[1;32m   1437\u001b[0m           ret = tf_session.TF_SessionRunCallable(\n\u001b[1;32m   1438\u001b[0m               \u001b[0mself\u001b[0m\u001b[0;34m.\u001b[0m\u001b[0m_session\u001b[0m\u001b[0;34m.\u001b[0m\u001b[0m_session\u001b[0m\u001b[0;34m,\u001b[0m \u001b[0mself\u001b[0m\u001b[0;34m.\u001b[0m\u001b[0m_handle\u001b[0m\u001b[0;34m,\u001b[0m \u001b[0margs\u001b[0m\u001b[0;34m,\u001b[0m \u001b[0mstatus\u001b[0m\u001b[0;34m,\u001b[0m\u001b[0;34m\u001b[0m\u001b[0;34m\u001b[0m\u001b[0m\n\u001b[0;32m-> 1439\u001b[0;31m               run_metadata_ptr)\n\u001b[0m\u001b[1;32m   1440\u001b[0m         \u001b[0;32mif\u001b[0m \u001b[0mrun_metadata\u001b[0m\u001b[0;34m:\u001b[0m\u001b[0;34m\u001b[0m\u001b[0;34m\u001b[0m\u001b[0m\n\u001b[1;32m   1441\u001b[0m           \u001b[0mproto_data\u001b[0m \u001b[0;34m=\u001b[0m \u001b[0mtf_session\u001b[0m\u001b[0;34m.\u001b[0m\u001b[0mTF_GetBuffer\u001b[0m\u001b[0;34m(\u001b[0m\u001b[0mrun_metadata_ptr\u001b[0m\u001b[0;34m)\u001b[0m\u001b[0;34m\u001b[0m\u001b[0;34m\u001b[0m\u001b[0m\n",
      "\u001b[0;31mKeyboardInterrupt\u001b[0m: "
     ]
    }
   ],
   "source": [
    "from keras import optimizers\n",
    "ofile = open(\"modelsRMSE.txt\",\"w+\")\n",
    "for j in range(100):\n",
    "    try:\n",
    "        del model\n",
    "    except:\n",
    "        pass\n",
    "    opt = 'sgd'\n",
    "    if j < 25:\n",
    "        opt = optimizers.SGD(lr=0.01, decay=1e-6, momentum=0.9, nesterov=True)\n",
    "    elif j >25 and j <50:\n",
    "        opt = optimizers.RMSprop(lr=0.001, rho=0.9, epsilon=None, decay=0.0)\n",
    "    elif j >50 and j <70:\n",
    "        opt = optimizers.Adagrad(lr=0.01, epsilon=None, decay=0.0)\n",
    "    elif j >70 and j <90:\n",
    "        opt = optimizers.Adadelta(lr=1.0, rho=0.95, epsilon=None, decay=0.0)\n",
    "    else:\n",
    "        opt = optimizers.Adam(lr=0.001, beta_1=0.9, beta_2=0.999, epsilon=None, decay=0.0, amsgrad=False)\n",
    "    model = wider_model(200 + np.round(random.uniform(0, 600)), 200 + np.round(random.uniform(0, 600)), opt,random.uniform(0, 1))\n",
    "    history = model.fit(X_train_complete, Y_train_complete, epochs=3, batch_size=1000, verbose=1)\n",
    "    predictions = model.predict(X_test_complete, batch_size=1000)\n",
    "    pred = list()\n",
    "    X_vector = X_test_complete[:, -2:-1]\n",
    "    Y_vector = Y_test_complete[:, -1]\n",
    "    preds = predictions[:, -1]\n",
    "    for i in range(len(X_test_complete)):\n",
    "        X, y = X_vector[i], Y_vector[i]\n",
    "        yhat = invert_scale(scaler, X, preds[i])\n",
    "        yhat = inverse_difference(series, yhat, len(X_test_complete)+1-i)\n",
    "        pred.append(yhat)\n",
    "        expected = series[len(train) + i + 1]\n",
    "    rmse = np.sqrt(mean_squared_error(series[-2000+2*range_size+1:-1], pred[1:]))\n",
    "    print(str(j))\n",
    "    print('Test RMSE: %.3f' % rmse)\n",
    "    ofile.write('\\n SDN_model{}.h5 \\n')\n",
    "    ofile.write('Test RMSE: %.3f' % rmse)\n",
    "    model.save('SDN_model{}.h5'.format(str(i)))"
   ]
  },
  {
   "cell_type": "code",
   "execution_count": 43,
   "metadata": {},
   "outputs": [
    {
     "name": "stdout",
     "output_type": "stream",
     "text": [
      "523.0\n"
     ]
    },
    {
     "data": {
      "text/plain": [
       "<keras.optimizers.SGD at 0x7f08cb793160>"
      ]
     },
     "execution_count": 43,
     "metadata": {},
     "output_type": "execute_result"
    }
   ],
   "source": []
  },
  {
   "cell_type": "code",
   "execution_count": 18,
   "metadata": {
    "scrolled": true
   },
   "outputs": [
    {
     "name": "stdout",
     "output_type": "stream",
     "text": [
      "Epoch 1/5\n",
      "50993/50993 [==============================] - 7s 147us/step - loss: 0.0120\n",
      "Epoch 2/5\n",
      "50993/50993 [==============================] - 6s 116us/step - loss: 0.0054\n",
      "Epoch 3/5\n",
      "50993/50993 [==============================] - 6s 111us/step - loss: 0.0052\n",
      "Epoch 4/5\n",
      "50993/50993 [==============================] - 6s 112us/step - loss: 0.0052\n",
      "Epoch 5/5\n",
      "50993/50993 [==============================] - 6s 111us/step - loss: 0.0051\n"
     ]
    }
   ],
   "source": [
    "# evaluate model with standardized dataset\n",
    "history = model.fit(X_train_complete, Y_train_complete, epochs=5, batch_size=1000, verbose=1)"
   ]
  },
  {
   "cell_type": "code",
   "execution_count": 52,
   "metadata": {},
   "outputs": [
    {
     "data": {
      "text/plain": [
       "Text(0.5, 0, 'Number of epochs')"
      ]
     },
     "execution_count": 52,
     "metadata": {},
     "output_type": "execute_result"
    },
    {
     "data": {
      "image/png": "[encoded data removed]",
      "text/plain": [
       "<Figure size 720x432 with 1 Axes>"
      ]
     },
     "metadata": {
      "needs_background": "light"
     },
     "output_type": "display_data"
    }
   ],
   "source": [
    "plt.figure(figsize=(10,6))\n",
    "plt.plot(history.history['loss'])\n",
    "plt.ylabel('Training Loss')\n",
    "plt.xlabel('Number of epochs')"
   ]
  },
  {
   "cell_type": "code",
   "execution_count": 53,
   "metadata": {},
   "outputs": [],
   "source": [
    "# Predict test dataset without confidence interval\n",
    "predictions = model.predict(X_test_complete, batch_size=1000)\n"
   ]
  },
  {
   "cell_type": "code",
   "execution_count": 54,
   "metadata": {},
   "outputs": [
    {
     "name": "stdout",
     "output_type": "stream",
     "text": [
      "(999, 1)\n",
      "(999,)\n",
      "(999,)\n",
      "(1999,)\n"
     ]
    }
   ],
   "source": [
    "# invert scaling, differencing\n",
    "pred = list()\n",
    "X_vector = X_test_complete[:, -2:-1]\n",
    "Y_vector = Y_test_complete[:, -1]\n",
    "print(np.shape(X_vector))\n",
    "print(np.shape(Y_vector))\n",
    "print(np.shape(predictions[:, -1]))\n",
    "print(np.shape(series[-2000:-1]))\n",
    "preds = predictions[:, -1]\n",
    "for i in range(len(X_test_complete)):\n",
    "    X, y = X_vector[i], Y_vector[i]\n",
    "    #print(X)\n",
    "    # invert scaling\n",
    "    yhat = invert_scale(scaler, X, preds[i])\n",
    "\n",
    "    # invert differencing\n",
    "    yhat = inverse_difference(series, yhat, len(X_test_complete)+1-i)\n",
    "    # store forecast\n",
    "    pred.append(yhat)\n",
    "    expected = series[len(train) + i + 1]"
   ]
  },
  {
   "cell_type": "code",
   "execution_count": 55,
   "metadata": {},
   "outputs": [
    {
     "data": {
      "text/plain": [
       "[<matplotlib.lines.Line2D at 0x7f08c9c0d710>]"
      ]
     },
     "execution_count": 55,
     "metadata": {},
     "output_type": "execute_result"
    },
    {
     "data": {
      "image/png": "[encoded data removed]",
      "text/plain": [
       "<Figure size 1080x576 with 1 Axes>"
      ]
     },
     "metadata": {
      "needs_background": "light"
     },
     "output_type": "display_data"
    }
   ],
   "source": [
    "plt.figure(figsize=(15,8))\n",
    "plt.plot(series[-2000+2*range_size+1:-1], 'b')\n",
    "plt.plot(pred[1:], 'r-.')"
   ]
  },
  {
   "cell_type": "code",
   "execution_count": 56,
   "metadata": {},
   "outputs": [
    {
     "name": "stdout",
     "output_type": "stream",
     "text": [
      "Test RMSE: 2.963\n"
     ]
    }
   ],
   "source": [
    "# performance \n",
    "rmse = np.sqrt(mean_squared_error(series[-2000+2*range_size+1:-1], pred[1:]))\n",
    "print('Test RMSE: %.3f' % rmse)\n",
    "\n",
    "#model.save('SDN_model.h5')"
   ]
  },
  {
   "cell_type": "markdown",
   "metadata": {},
   "source": [
    "***Prediction with confidence interval***  \n",
    "https://stackoverflow.com/questions/43529931/how-to-calculate-prediction-uncertainty-using-keras  \n",
    "http://mlg.eng.cam.ac.uk/yarin/blog_3d801aa532c1ce.html#uncertainty-sense  \n",
    "https://www.reddit.com/r/deepfeec/comments/4bjwx7/plano_de_ataque_redes_neurais_bayesianas_resolvem/"
   ]
  },
  {
   "cell_type": "code",
   "execution_count": 21,
   "metadata": {},
   "outputs": [],
   "source": [
    "# create tensorflow function to apply dropout during prediction\n",
    "import keras.backend as K\n",
    "f = K.function([model.layers[0].input, K.learning_phase()], [model.layers[-1].output])"
   ]
  },
  {
   "cell_type": "code",
   "execution_count": 22,
   "metadata": {},
   "outputs": [],
   "source": [
    "def predict_with_uncertainty(f, x, n_iter=200):\n",
    "    \"\"\"\n",
    "    All below computation based on couple variables:\n",
    "    l - prior length-scale, this captures our belief over the function frequency.\n",
    "        A short length-scale l corresponds to high frequency data, and a long length-scale\n",
    "        corresponds to low frequency data (choosen experimentally, I cannot confirm if this variable\n",
    "        is good for this problem)\n",
    "    N - number of training samples\n",
    "    w_d - weight_decay (originally it was model.weight_decay but keras sequential model does not have this attribute\n",
    "            and along with my understending it is just a regularization), in this situation we have Dropout\n",
    "            regularization so this variable is also set experimentally, there should be further explenation\n",
    "    \"\"\"\n",
    "    result = np.zeros((n_iter,) + x.shape)\n",
    "\n",
    "    for iter in range(n_iter):\n",
    "        result[iter] = f([np.asmatrix(x).reshape(2000,1), 1])[0][:,0]\n",
    "        pred_1 = list()\n",
    "        for i in range(len(result[iter])):\n",
    "            # make one-step forecast\n",
    "            X, y = test_scaled[i, 0:-1], test_scaled[i, -1]\n",
    "            # invert scaling\n",
    "            yhat = invert_scale(scaler, X, result[iter][i])\n",
    "            # invert differencing\n",
    "            yhat = inverse_difference(series, yhat, len(test_scaled)+1-i)\n",
    "            # store forecast\n",
    "            pred_1.append(yhat)\n",
    "        result[iter] = pred_1\n",
    "\n",
    "    prediction = result.mean(axis=0)\n",
    "    uncertainty = result.var(axis=0)\n",
    "    \n",
    "    l = 1e2\n",
    "    N = train_scaled.shape[0]\n",
    "    w_d = 10\n",
    "    tau = l**2 * (1 - 0.6) / (2 * N * w_d)\n",
    "    uncertainty += tau**-1\n",
    "    \n",
    "    return prediction, uncertainty, result"
   ]
  },
  {
   "cell_type": "code",
   "execution_count": 23,
   "metadata": {},
   "outputs": [
    {
     "ename": "InvalidArgumentError",
     "evalue": "Matrix size-incompatible: In[0]: [2000,1], In[1]: [500,16]\n\t [[{{node dense_1/MatMul}} = MatMul[T=DT_FLOAT, transpose_a=false, transpose_b=false, _device=\"/job:localhost/replica:0/task:0/device:CPU:0\"](_arg_dense_1_input_0_0, dense_1/kernel/read)]]",
     "output_type": "error",
     "traceback": [
      "\u001b[0;31m---------------------------------------------------------------------------\u001b[0m",
      "\u001b[0;31mInvalidArgumentError\u001b[0m                      Traceback (most recent call last)",
      "\u001b[0;32m<ipython-input-23-2399ee47adcb>\u001b[0m in \u001b[0;36m<module>\u001b[0;34m\u001b[0m\n\u001b[1;32m      1\u001b[0m \u001b[0;31m# prediction part\u001b[0m\u001b[0;34m\u001b[0m\u001b[0;34m\u001b[0m\u001b[0;34m\u001b[0m\u001b[0m\n\u001b[0;32m----> 2\u001b[0;31m \u001b[0mp\u001b[0m\u001b[0;34m,\u001b[0m \u001b[0mu\u001b[0m\u001b[0;34m,\u001b[0m \u001b[0mr\u001b[0m \u001b[0;34m=\u001b[0m \u001b[0mpredict_with_uncertainty\u001b[0m\u001b[0;34m(\u001b[0m\u001b[0mf\u001b[0m\u001b[0;34m,\u001b[0m\u001b[0mtest_scaled\u001b[0m\u001b[0;34m[\u001b[0m\u001b[0;34m:\u001b[0m\u001b[0;34m,\u001b[0m\u001b[0;36m0\u001b[0m\u001b[0;34m]\u001b[0m\u001b[0;34m)\u001b[0m\u001b[0;34m\u001b[0m\u001b[0;34m\u001b[0m\u001b[0m\n\u001b[0m",
      "\u001b[0;32m<ipython-input-22-454861fcdc7a>\u001b[0m in \u001b[0;36mpredict_with_uncertainty\u001b[0;34m(f, x, n_iter)\u001b[0m\n\u001b[1;32m     14\u001b[0m \u001b[0;34m\u001b[0m\u001b[0m\n\u001b[1;32m     15\u001b[0m     \u001b[0;32mfor\u001b[0m \u001b[0miter\u001b[0m \u001b[0;32min\u001b[0m \u001b[0mrange\u001b[0m\u001b[0;34m(\u001b[0m\u001b[0mn_iter\u001b[0m\u001b[0;34m)\u001b[0m\u001b[0;34m:\u001b[0m\u001b[0;34m\u001b[0m\u001b[0;34m\u001b[0m\u001b[0m\n\u001b[0;32m---> 16\u001b[0;31m         \u001b[0mresult\u001b[0m\u001b[0;34m[\u001b[0m\u001b[0miter\u001b[0m\u001b[0;34m]\u001b[0m \u001b[0;34m=\u001b[0m \u001b[0mf\u001b[0m\u001b[0;34m(\u001b[0m\u001b[0;34m[\u001b[0m\u001b[0mnp\u001b[0m\u001b[0;34m.\u001b[0m\u001b[0masmatrix\u001b[0m\u001b[0;34m(\u001b[0m\u001b[0mx\u001b[0m\u001b[0;34m)\u001b[0m\u001b[0;34m.\u001b[0m\u001b[0mreshape\u001b[0m\u001b[0;34m(\u001b[0m\u001b[0;36m2000\u001b[0m\u001b[0;34m,\u001b[0m\u001b[0;36m1\u001b[0m\u001b[0;34m)\u001b[0m\u001b[0;34m,\u001b[0m \u001b[0;36m1\u001b[0m\u001b[0;34m]\u001b[0m\u001b[0;34m)\u001b[0m\u001b[0;34m[\u001b[0m\u001b[0;36m0\u001b[0m\u001b[0;34m]\u001b[0m\u001b[0;34m[\u001b[0m\u001b[0;34m:\u001b[0m\u001b[0;34m,\u001b[0m\u001b[0;36m0\u001b[0m\u001b[0;34m]\u001b[0m\u001b[0;34m\u001b[0m\u001b[0;34m\u001b[0m\u001b[0m\n\u001b[0m\u001b[1;32m     17\u001b[0m         \u001b[0mpred_1\u001b[0m \u001b[0;34m=\u001b[0m \u001b[0mlist\u001b[0m\u001b[0;34m(\u001b[0m\u001b[0;34m)\u001b[0m\u001b[0;34m\u001b[0m\u001b[0;34m\u001b[0m\u001b[0m\n\u001b[1;32m     18\u001b[0m         \u001b[0;32mfor\u001b[0m \u001b[0mi\u001b[0m \u001b[0;32min\u001b[0m \u001b[0mrange\u001b[0m\u001b[0;34m(\u001b[0m\u001b[0mlen\u001b[0m\u001b[0;34m(\u001b[0m\u001b[0mresult\u001b[0m\u001b[0;34m[\u001b[0m\u001b[0miter\u001b[0m\u001b[0;34m]\u001b[0m\u001b[0;34m)\u001b[0m\u001b[0;34m)\u001b[0m\u001b[0;34m:\u001b[0m\u001b[0;34m\u001b[0m\u001b[0;34m\u001b[0m\u001b[0m\n",
      "\u001b[0;32m~/.local/lib/python3.6/site-packages/keras/backend/tensorflow_backend.py\u001b[0m in \u001b[0;36m__call__\u001b[0;34m(self, inputs)\u001b[0m\n\u001b[1;32m   2713\u001b[0m                 \u001b[0;32mreturn\u001b[0m \u001b[0mself\u001b[0m\u001b[0;34m.\u001b[0m\u001b[0m_legacy_call\u001b[0m\u001b[0;34m(\u001b[0m\u001b[0minputs\u001b[0m\u001b[0;34m)\u001b[0m\u001b[0;34m\u001b[0m\u001b[0;34m\u001b[0m\u001b[0m\n\u001b[1;32m   2714\u001b[0m \u001b[0;34m\u001b[0m\u001b[0m\n\u001b[0;32m-> 2715\u001b[0;31m             \u001b[0;32mreturn\u001b[0m \u001b[0mself\u001b[0m\u001b[0;34m.\u001b[0m\u001b[0m_call\u001b[0m\u001b[0;34m(\u001b[0m\u001b[0minputs\u001b[0m\u001b[0;34m)\u001b[0m\u001b[0;34m\u001b[0m\u001b[0;34m\u001b[0m\u001b[0m\n\u001b[0m\u001b[1;32m   2716\u001b[0m         \u001b[0;32melse\u001b[0m\u001b[0;34m:\u001b[0m\u001b[0;34m\u001b[0m\u001b[0;34m\u001b[0m\u001b[0m\n\u001b[1;32m   2717\u001b[0m             \u001b[0;32mif\u001b[0m \u001b[0mpy_any\u001b[0m\u001b[0;34m(\u001b[0m\u001b[0mis_tensor\u001b[0m\u001b[0;34m(\u001b[0m\u001b[0mx\u001b[0m\u001b[0;34m)\u001b[0m \u001b[0;32mfor\u001b[0m \u001b[0mx\u001b[0m \u001b[0;32min\u001b[0m \u001b[0minputs\u001b[0m\u001b[0;34m)\u001b[0m\u001b[0;34m:\u001b[0m\u001b[0;34m\u001b[0m\u001b[0;34m\u001b[0m\u001b[0m\n",
      "\u001b[0;32m~/.local/lib/python3.6/site-packages/keras/backend/tensorflow_backend.py\u001b[0m in \u001b[0;36m_call\u001b[0;34m(self, inputs)\u001b[0m\n\u001b[1;32m   2673\u001b[0m             \u001b[0mfetched\u001b[0m \u001b[0;34m=\u001b[0m \u001b[0mself\u001b[0m\u001b[0;34m.\u001b[0m\u001b[0m_callable_fn\u001b[0m\u001b[0;34m(\u001b[0m\u001b[0;34m*\u001b[0m\u001b[0marray_vals\u001b[0m\u001b[0;34m,\u001b[0m \u001b[0mrun_metadata\u001b[0m\u001b[0;34m=\u001b[0m\u001b[0mself\u001b[0m\u001b[0;34m.\u001b[0m\u001b[0mrun_metadata\u001b[0m\u001b[0;34m)\u001b[0m\u001b[0;34m\u001b[0m\u001b[0;34m\u001b[0m\u001b[0m\n\u001b[1;32m   2674\u001b[0m         \u001b[0;32melse\u001b[0m\u001b[0;34m:\u001b[0m\u001b[0;34m\u001b[0m\u001b[0;34m\u001b[0m\u001b[0m\n\u001b[0;32m-> 2675\u001b[0;31m             \u001b[0mfetched\u001b[0m \u001b[0;34m=\u001b[0m \u001b[0mself\u001b[0m\u001b[0;34m.\u001b[0m\u001b[0m_callable_fn\u001b[0m\u001b[0;34m(\u001b[0m\u001b[0;34m*\u001b[0m\u001b[0marray_vals\u001b[0m\u001b[0;34m)\u001b[0m\u001b[0;34m\u001b[0m\u001b[0;34m\u001b[0m\u001b[0m\n\u001b[0m\u001b[1;32m   2676\u001b[0m         \u001b[0;32mreturn\u001b[0m \u001b[0mfetched\u001b[0m\u001b[0;34m[\u001b[0m\u001b[0;34m:\u001b[0m\u001b[0mlen\u001b[0m\u001b[0;34m(\u001b[0m\u001b[0mself\u001b[0m\u001b[0;34m.\u001b[0m\u001b[0moutputs\u001b[0m\u001b[0;34m)\u001b[0m\u001b[0;34m]\u001b[0m\u001b[0;34m\u001b[0m\u001b[0;34m\u001b[0m\u001b[0m\n\u001b[1;32m   2677\u001b[0m \u001b[0;34m\u001b[0m\u001b[0m\n",
      "\u001b[0;32m~/.local/lib/python3.6/site-packages/tensorflow/python/client/session.py\u001b[0m in \u001b[0;36m__call__\u001b[0;34m(self, *args, **kwargs)\u001b[0m\n\u001b[1;32m   1437\u001b[0m           ret = tf_session.TF_SessionRunCallable(\n\u001b[1;32m   1438\u001b[0m               \u001b[0mself\u001b[0m\u001b[0;34m.\u001b[0m\u001b[0m_session\u001b[0m\u001b[0;34m.\u001b[0m\u001b[0m_session\u001b[0m\u001b[0;34m,\u001b[0m \u001b[0mself\u001b[0m\u001b[0;34m.\u001b[0m\u001b[0m_handle\u001b[0m\u001b[0;34m,\u001b[0m \u001b[0margs\u001b[0m\u001b[0;34m,\u001b[0m \u001b[0mstatus\u001b[0m\u001b[0;34m,\u001b[0m\u001b[0;34m\u001b[0m\u001b[0;34m\u001b[0m\u001b[0m\n\u001b[0;32m-> 1439\u001b[0;31m               run_metadata_ptr)\n\u001b[0m\u001b[1;32m   1440\u001b[0m         \u001b[0;32mif\u001b[0m \u001b[0mrun_metadata\u001b[0m\u001b[0;34m:\u001b[0m\u001b[0;34m\u001b[0m\u001b[0;34m\u001b[0m\u001b[0m\n\u001b[1;32m   1441\u001b[0m           \u001b[0mproto_data\u001b[0m \u001b[0;34m=\u001b[0m \u001b[0mtf_session\u001b[0m\u001b[0;34m.\u001b[0m\u001b[0mTF_GetBuffer\u001b[0m\u001b[0;34m(\u001b[0m\u001b[0mrun_metadata_ptr\u001b[0m\u001b[0;34m)\u001b[0m\u001b[0;34m\u001b[0m\u001b[0;34m\u001b[0m\u001b[0m\n",
      "\u001b[0;32m~/.local/lib/python3.6/site-packages/tensorflow/python/framework/errors_impl.py\u001b[0m in \u001b[0;36m__exit__\u001b[0;34m(self, type_arg, value_arg, traceback_arg)\u001b[0m\n\u001b[1;32m    526\u001b[0m             \u001b[0;32mNone\u001b[0m\u001b[0;34m,\u001b[0m \u001b[0;32mNone\u001b[0m\u001b[0;34m,\u001b[0m\u001b[0;34m\u001b[0m\u001b[0;34m\u001b[0m\u001b[0m\n\u001b[1;32m    527\u001b[0m             \u001b[0mcompat\u001b[0m\u001b[0;34m.\u001b[0m\u001b[0mas_text\u001b[0m\u001b[0;34m(\u001b[0m\u001b[0mc_api\u001b[0m\u001b[0;34m.\u001b[0m\u001b[0mTF_Message\u001b[0m\u001b[0;34m(\u001b[0m\u001b[0mself\u001b[0m\u001b[0;34m.\u001b[0m\u001b[0mstatus\u001b[0m\u001b[0;34m.\u001b[0m\u001b[0mstatus\u001b[0m\u001b[0;34m)\u001b[0m\u001b[0;34m)\u001b[0m\u001b[0;34m,\u001b[0m\u001b[0;34m\u001b[0m\u001b[0;34m\u001b[0m\u001b[0m\n\u001b[0;32m--> 528\u001b[0;31m             c_api.TF_GetCode(self.status.status))\n\u001b[0m\u001b[1;32m    529\u001b[0m     \u001b[0;31m# Delete the underlying status object from memory otherwise it stays alive\u001b[0m\u001b[0;34m\u001b[0m\u001b[0;34m\u001b[0m\u001b[0;34m\u001b[0m\u001b[0m\n\u001b[1;32m    530\u001b[0m     \u001b[0;31m# as there is a reference to status from this from the traceback due to\u001b[0m\u001b[0;34m\u001b[0m\u001b[0;34m\u001b[0m\u001b[0;34m\u001b[0m\u001b[0m\n",
      "\u001b[0;31mInvalidArgumentError\u001b[0m: Matrix size-incompatible: In[0]: [2000,1], In[1]: [500,16]\n\t [[{{node dense_1/MatMul}} = MatMul[T=DT_FLOAT, transpose_a=false, transpose_b=false, _device=\"/job:localhost/replica:0/task:0/device:CPU:0\"](_arg_dense_1_input_0_0, dense_1/kernel/read)]]"
     ]
    }
   ],
   "source": [
    "# prediction part\n",
    "p, u, r = predict_with_uncertainty(f,test_scaled[:,0])"
   ]
  },
  {
   "cell_type": "code",
   "execution_count": null,
   "metadata": {},
   "outputs": [],
   "source": [
    "plt.figure(figsize=(15,8))\n",
    "plt.plot(series[-2000:-1], 'r.') # true values\n",
    "plt.plot(p[1:], 'b') # predicted mean values\n",
    "plt.fill_between(x = range(1999), y1 = p[1:]+u[1:], y2=p[1:]-u[1:]) # predicted uncertanity interval"
   ]
  },
  {
   "cell_type": "code",
   "execution_count": null,
   "metadata": {},
   "outputs": [],
   "source": []
  }
 ],
 "metadata": {
  "kernelspec": {
   "display_name": "Python 3",
   "language": "python",
   "name": "python3"
  },
  "language_info": {
   "codemirror_mode": {
    "name": "ipython",
    "version": 3
   },
   "file_extension": ".py",
   "mimetype": "text/x-python",
   "name": "python",
   "nbconvert_exporter": "python",
   "pygments_lexer": "ipython3",
   "version": "3.6.7"
  }
 },
 "nbformat": 4,
 "nbformat_minor": 2
}
